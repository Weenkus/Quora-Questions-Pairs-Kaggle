{
 "cells": [
  {
   "cell_type": "markdown",
   "metadata": {
    "deletable": true,
    "editable": true
   },
   "source": [
    "## Libraries"
   ]
  },
  {
   "cell_type": "code",
   "execution_count": 1,
   "metadata": {
    "collapsed": false,
    "deletable": true,
    "editable": true
   },
   "outputs": [],
   "source": [
    "import pandas as pd\n",
    "import numpy as np"
   ]
  },
  {
   "cell_type": "markdown",
   "metadata": {
    "deletable": true,
    "editable": true
   },
   "source": [
    "## Load the data"
   ]
  },
  {
   "cell_type": "code",
   "execution_count": 2,
   "metadata": {
    "collapsed": false,
    "deletable": true,
    "editable": true
   },
   "outputs": [],
   "source": [
    "train = pd.read_csv('../input/train.csv')\n",
    "test = pd.read_csv('../input/test.csv')"
   ]
  },
  {
   "cell_type": "code",
   "execution_count": 3,
   "metadata": {
    "collapsed": false,
    "deletable": true,
    "editable": true
   },
   "outputs": [
    {
     "data": {
      "text/html": [
       "<div>\n",
       "<table border=\"1\" class=\"dataframe\">\n",
       "  <thead>\n",
       "    <tr style=\"text-align: right;\">\n",
       "      <th></th>\n",
       "      <th>id</th>\n",
       "      <th>qid1</th>\n",
       "      <th>qid2</th>\n",
       "      <th>question1</th>\n",
       "      <th>question2</th>\n",
       "      <th>is_duplicate</th>\n",
       "    </tr>\n",
       "  </thead>\n",
       "  <tbody>\n",
       "    <tr>\n",
       "      <th>0</th>\n",
       "      <td>0</td>\n",
       "      <td>1</td>\n",
       "      <td>2</td>\n",
       "      <td>What is the step by step guide to invest in sh...</td>\n",
       "      <td>What is the step by step guide to invest in sh...</td>\n",
       "      <td>0</td>\n",
       "    </tr>\n",
       "    <tr>\n",
       "      <th>1</th>\n",
       "      <td>1</td>\n",
       "      <td>3</td>\n",
       "      <td>4</td>\n",
       "      <td>What is the story of Kohinoor (Koh-i-Noor) Dia...</td>\n",
       "      <td>What would happen if the Indian government sto...</td>\n",
       "      <td>0</td>\n",
       "    </tr>\n",
       "    <tr>\n",
       "      <th>2</th>\n",
       "      <td>2</td>\n",
       "      <td>5</td>\n",
       "      <td>6</td>\n",
       "      <td>How can I increase the speed of my internet co...</td>\n",
       "      <td>How can Internet speed be increased by hacking...</td>\n",
       "      <td>0</td>\n",
       "    </tr>\n",
       "    <tr>\n",
       "      <th>3</th>\n",
       "      <td>3</td>\n",
       "      <td>7</td>\n",
       "      <td>8</td>\n",
       "      <td>Why am I mentally very lonely? How can I solve...</td>\n",
       "      <td>Find the remainder when [math]23^{24}[/math] i...</td>\n",
       "      <td>0</td>\n",
       "    </tr>\n",
       "    <tr>\n",
       "      <th>4</th>\n",
       "      <td>4</td>\n",
       "      <td>9</td>\n",
       "      <td>10</td>\n",
       "      <td>Which one dissolve in water quikly sugar, salt...</td>\n",
       "      <td>Which fish would survive in salt water?</td>\n",
       "      <td>0</td>\n",
       "    </tr>\n",
       "  </tbody>\n",
       "</table>\n",
       "</div>"
      ],
      "text/plain": [
       "   id  qid1  qid2                                          question1  \\\n",
       "0   0     1     2  What is the step by step guide to invest in sh...   \n",
       "1   1     3     4  What is the story of Kohinoor (Koh-i-Noor) Dia...   \n",
       "2   2     5     6  How can I increase the speed of my internet co...   \n",
       "3   3     7     8  Why am I mentally very lonely? How can I solve...   \n",
       "4   4     9    10  Which one dissolve in water quikly sugar, salt...   \n",
       "\n",
       "                                           question2  is_duplicate  \n",
       "0  What is the step by step guide to invest in sh...             0  \n",
       "1  What would happen if the Indian government sto...             0  \n",
       "2  How can Internet speed be increased by hacking...             0  \n",
       "3  Find the remainder when [math]23^{24}[/math] i...             0  \n",
       "4            Which fish would survive in salt water?             0  "
      ]
     },
     "execution_count": 3,
     "metadata": {},
     "output_type": "execute_result"
    }
   ],
   "source": [
    "train.head()"
   ]
  },
  {
   "cell_type": "markdown",
   "metadata": {
    "deletable": true,
    "editable": true
   },
   "source": [
    "## Clean Data"
   ]
  },
  {
   "cell_type": "code",
   "execution_count": 4,
   "metadata": {
    "collapsed": true
   },
   "outputs": [],
   "source": [
    "import re\n",
    "from nltk.corpus import stopwords"
   ]
  },
  {
   "cell_type": "code",
   "execution_count": 5,
   "metadata": {
    "collapsed": false,
    "deletable": true,
    "editable": true
   },
   "outputs": [
    {
     "name": "stderr",
     "output_type": "stream",
     "text": [
      "/home/weenkus/.conda/envs/py36/lib/python3.6/site-packages/ipykernel/__main__.py:20: SettingWithCopyWarning: \n",
      "A value is trying to be set on a copy of a slice from a DataFrame.\n",
      "Try using .loc[row_indexer,col_indexer] = value instead\n",
      "\n",
      "See the caveats in the documentation: http://pandas.pydata.org/pandas-docs/stable/indexing.html#indexing-view-versus-copy\n"
     ]
    }
   ],
   "source": [
    "def clean_sentence(val):\n",
    "    \"remove chars that are not letters or numbers, downcase, then remove stop words\"\n",
    "    stops_words = set(stopwords.words(\"english\"))\n",
    "    regex = re.compile('([^\\s\\w]|_)+')\n",
    "    sentence = regex.sub('', val).lower()\n",
    "    sentence = sentence.split(\" \")\n",
    "    \n",
    "    for word in list(sentence):\n",
    "        if word in stops_words:\n",
    "            sentence.remove(word)  \n",
    "            \n",
    "    sentence = \" \".join(sentence)\n",
    "    return sentence\n",
    "\n",
    "def clean_dataframe(data):\n",
    "    \"drop nans, then apply 'clean_sentence' function to question1 and 2\"\n",
    "    data = data.dropna(how=\"any\")\n",
    "    \n",
    "    for col in ['question1', 'question2']:\n",
    "        data[col] = data[col].apply(clean_sentence)\n",
    "    \n",
    "    return data\n",
    "\n",
    "train_clean = clean_dataframe(train)"
   ]
  },
  {
   "cell_type": "markdown",
   "metadata": {
    "deletable": true,
    "editable": true
   },
   "source": [
    "## Data Processing"
   ]
  },
  {
   "cell_type": "code",
   "execution_count": 6,
   "metadata": {
    "collapsed": false,
    "deletable": true,
    "editable": true
   },
   "outputs": [],
   "source": [
    "import math\n",
    "import gc\n",
    "\n",
    "from collections import Counter\n",
    "from multiprocessing import Pool"
   ]
  },
  {
   "cell_type": "code",
   "execution_count": 7,
   "metadata": {
    "collapsed": true,
    "deletable": true,
    "editable": true
   },
   "outputs": [],
   "source": [
    "def transform_data(data):\n",
    "    return data.apply(apply_func, axis=1, raw=True)\n",
    "\n",
    "def chunk(data, num):   \n",
    "    chunk_size = math.ceil(len(data) / num)\n",
    "    return [data[i*chunk_size : (i+1)*chunk_size] for i in range(num)]\n",
    "\n",
    "def pool_apply(data, proc_num=8):\n",
    "    \n",
    "    with Pool(processes=proc_num) as pool:\n",
    "        chunks = chunk(data, proc_num) \n",
    "        proccessed_chunks = list(pool.map(transform_data, chunks))\n",
    "  \n",
    "    return np.hstack(tuple(proccessed_chunks))"
   ]
  },
  {
   "cell_type": "code",
   "execution_count": 8,
   "metadata": {
    "collapsed": true,
    "deletable": true,
    "editable": true
   },
   "outputs": [],
   "source": [
    "def word_match_share(row):\n",
    "    stops_words = set(stopwords.words(\"english\"))\n",
    "    \n",
    "    q1words = {}\n",
    "    q2words = {}\n",
    "    \n",
    "    for word in str(row['question1']).lower().split():\n",
    "        if word not in stops_words:\n",
    "            q1words[word] = 1\n",
    "            \n",
    "    for word in str(row['question2']).lower().split():\n",
    "        if word not in stops_words:\n",
    "            q2words[word] = 1\n",
    "            \n",
    "    if len(q1words) == 0 or len(q2words) == 0:\n",
    "        # The computer-generated chaff includes a few questions that are nothing but stopwords\n",
    "        return 0\n",
    "    \n",
    "    shared_words_in_q1 = [w for w in q1words.keys() if w in q2words]\n",
    "    shared_words_in_q2 = [w for w in q2words.keys() if w in q1words]\n",
    "    R = (len(shared_words_in_q1) + len(shared_words_in_q2))/(len(q1words) + len(q2words))\n",
    "    return R\n",
    "\n",
    "def tfidf_word_match_share(row):\n",
    "    stops_words = set(stopwords.words(\"english\"))\n",
    "    \n",
    "    q1words = {}\n",
    "    q2words = {}\n",
    "    \n",
    "    for word in str(row['question1']).lower().split():\n",
    "        if word not in stops_words:\n",
    "            q1words[word] = 1\n",
    "            \n",
    "    for word in str(row['question2']).lower().split():\n",
    "        if word not in stops_words:\n",
    "            q2words[word] = 1\n",
    "            \n",
    "    if len(q1words) == 0 or len(q2words) == 0:\n",
    "        # The computer-generated chaff includes a few questions that are nothing but stopwords\n",
    "        return 0\n",
    "    \n",
    "    with np.errstate(invalid='ignore'):\n",
    "        shared_weights = [weights.get(w, 0) for w in q1words.keys() if w in q2words] + [\n",
    "            weights.get(w, 0) for w in q2words.keys() if w in q1words]\n",
    "        \n",
    "        total_weights = [weights.get(w, 0) for w in q1words] + [weights.get(w, 0) for w in q2words]\n",
    "\n",
    "        R = np.sum(shared_weights) / np.sum(total_weights)\n",
    "\n",
    "    return R if not math.isnan(R) else 0\n",
    "\n",
    "\n",
    "def start_with_same_first_word(row):\n",
    "    if not isinstance(row['question1'], str) or not isinstance(row['question2'], str):\n",
    "        return 0\n",
    "    \n",
    "    first_word_q1 = row['question1'].split()[0].lower()\n",
    "    first_word_q2 = row['question2'].split()[0].lower()\n",
    "    \n",
    "    return 1 if first_word_q1 == first_word_q2 else 0\n",
    "\n",
    "def question_length(row):\n",
    "    question = row[feature]\n",
    "    return len(question) if isinstance(question, str) else 0\n",
    "\n",
    "def word_count(row):\n",
    "    question = row[feature]\n",
    "    return len(question.split()) if isinstance(question, str) else 0\n",
    "\n",
    "\n",
    "# If a word appears only once, we ignore it completely (likely a typo)\n",
    "# Epsilon defines a smoothing constant, which makes the effect of extremely rare words smaller\n",
    "def get_weight(count, eps=10000, min_count=2):\n",
    "    if count < min_count:\n",
    "        return 0\n",
    "    else:\n",
    "        return 1 / (count + eps)"
   ]
  },
  {
   "cell_type": "code",
   "execution_count": 9,
   "metadata": {
    "collapsed": false,
    "deletable": true,
    "editable": true
   },
   "outputs": [],
   "source": [
    "eps = 5000 \n",
    "train_qs = pd.Series(train['question1'].tolist() + train['question2'].tolist()).astype(str)\n",
    "words = (\" \".join(train_qs)).lower().split()\n",
    "counts = Counter(words)\n",
    "weights = {word: get_weight(count) for word, count in counts.items()}"
   ]
  },
  {
   "cell_type": "code",
   "execution_count": 10,
   "metadata": {
    "collapsed": false,
    "deletable": true,
    "editable": true
   },
   "outputs": [
    {
     "data": {
      "text/html": [
       "<div>\n",
       "<table border=\"1\" class=\"dataframe\">\n",
       "  <thead>\n",
       "    <tr style=\"text-align: right;\">\n",
       "      <th></th>\n",
       "      <th>question1</th>\n",
       "      <th>question2</th>\n",
       "    </tr>\n",
       "  </thead>\n",
       "  <tbody>\n",
       "    <tr>\n",
       "      <th>5</th>\n",
       "      <td>Astrology: I am a Capricorn Sun Cap moon and c...</td>\n",
       "      <td>I'm a triple Capricorn (Sun, Moon and ascendan...</td>\n",
       "    </tr>\n",
       "    <tr>\n",
       "      <th>7</th>\n",
       "      <td>How can I be a good geologist?</td>\n",
       "      <td>What should I do to be a great geologist?</td>\n",
       "    </tr>\n",
       "    <tr>\n",
       "      <th>11</th>\n",
       "      <td>How do I read and find my YouTube comments?</td>\n",
       "      <td>How can I see all my Youtube comments?</td>\n",
       "    </tr>\n",
       "    <tr>\n",
       "      <th>12</th>\n",
       "      <td>What can make Physics easy to learn?</td>\n",
       "      <td>How can you make physics easy to learn?</td>\n",
       "    </tr>\n",
       "    <tr>\n",
       "      <th>13</th>\n",
       "      <td>What was your first sexual experience like?</td>\n",
       "      <td>What was your first sexual experience?</td>\n",
       "    </tr>\n",
       "    <tr>\n",
       "      <th>15</th>\n",
       "      <td>What would a Trump presidency mean for current...</td>\n",
       "      <td>How will a Trump presidency affect the student...</td>\n",
       "    </tr>\n",
       "    <tr>\n",
       "      <th>16</th>\n",
       "      <td>What does manipulation mean?</td>\n",
       "      <td>What does manipulation means?</td>\n",
       "    </tr>\n",
       "    <tr>\n",
       "      <th>18</th>\n",
       "      <td>Why are so many Quora users posting questions ...</td>\n",
       "      <td>Why do people ask Quora questions which can be...</td>\n",
       "    </tr>\n",
       "    <tr>\n",
       "      <th>20</th>\n",
       "      <td>Why do rockets look white?</td>\n",
       "      <td>Why are rockets and boosters painted white?</td>\n",
       "    </tr>\n",
       "    <tr>\n",
       "      <th>29</th>\n",
       "      <td>How should I prepare for CA final law?</td>\n",
       "      <td>How one should know that he/she completely pre...</td>\n",
       "    </tr>\n",
       "    <tr>\n",
       "      <th>31</th>\n",
       "      <td>What are some special cares for someone with a...</td>\n",
       "      <td>How can I keep my nose from getting stuffy at ...</td>\n",
       "    </tr>\n",
       "    <tr>\n",
       "      <th>32</th>\n",
       "      <td>What Game of Thrones villain would be the most...</td>\n",
       "      <td>What Game of Thrones villain would you most li...</td>\n",
       "    </tr>\n",
       "    <tr>\n",
       "      <th>38</th>\n",
       "      <td>How do we prepare for UPSC?</td>\n",
       "      <td>How do I prepare for civil service?</td>\n",
       "    </tr>\n",
       "    <tr>\n",
       "      <th>48</th>\n",
       "      <td>What are some examples of products that can be...</td>\n",
       "      <td>What are some of the products made from crude ...</td>\n",
       "    </tr>\n",
       "    <tr>\n",
       "      <th>49</th>\n",
       "      <td>How do I make friends.</td>\n",
       "      <td>How to make friends ?</td>\n",
       "    </tr>\n",
       "    <tr>\n",
       "      <th>50</th>\n",
       "      <td>Is Career Launcher good for RBI Grade B prepar...</td>\n",
       "      <td>How is career launcher online program for RBI ...</td>\n",
       "    </tr>\n",
       "    <tr>\n",
       "      <th>51</th>\n",
       "      <td>Will a Blu Ray play on a regular DVD player? I...</td>\n",
       "      <td>How can you play a Blu Ray DVD on a regular DV...</td>\n",
       "    </tr>\n",
       "    <tr>\n",
       "      <th>53</th>\n",
       "      <td>What is the best/most memorable thing you've e...</td>\n",
       "      <td>What is the most delicious dish you've ever ea...</td>\n",
       "    </tr>\n",
       "    <tr>\n",
       "      <th>58</th>\n",
       "      <td>I was suddenly logged off Gmail. I can't remem...</td>\n",
       "      <td>I can't remember my Gmail password or my recov...</td>\n",
       "    </tr>\n",
       "    <tr>\n",
       "      <th>62</th>\n",
       "      <td>How is the new Harry Potter book 'Harry Potter...</td>\n",
       "      <td>How bad is the new book by J.K Rowling?</td>\n",
       "    </tr>\n",
       "  </tbody>\n",
       "</table>\n",
       "</div>"
      ],
      "text/plain": [
       "                                            question1  \\\n",
       "5   Astrology: I am a Capricorn Sun Cap moon and c...   \n",
       "7                      How can I be a good geologist?   \n",
       "11        How do I read and find my YouTube comments?   \n",
       "12               What can make Physics easy to learn?   \n",
       "13        What was your first sexual experience like?   \n",
       "15  What would a Trump presidency mean for current...   \n",
       "16                       What does manipulation mean?   \n",
       "18  Why are so many Quora users posting questions ...   \n",
       "20                         Why do rockets look white?   \n",
       "29             How should I prepare for CA final law?   \n",
       "31  What are some special cares for someone with a...   \n",
       "32  What Game of Thrones villain would be the most...   \n",
       "38                        How do we prepare for UPSC?   \n",
       "48  What are some examples of products that can be...   \n",
       "49                             How do I make friends.   \n",
       "50  Is Career Launcher good for RBI Grade B prepar...   \n",
       "51  Will a Blu Ray play on a regular DVD player? I...   \n",
       "53  What is the best/most memorable thing you've e...   \n",
       "58  I was suddenly logged off Gmail. I can't remem...   \n",
       "62  How is the new Harry Potter book 'Harry Potter...   \n",
       "\n",
       "                                            question2  \n",
       "5   I'm a triple Capricorn (Sun, Moon and ascendan...  \n",
       "7           What should I do to be a great geologist?  \n",
       "11             How can I see all my Youtube comments?  \n",
       "12            How can you make physics easy to learn?  \n",
       "13             What was your first sexual experience?  \n",
       "15  How will a Trump presidency affect the student...  \n",
       "16                      What does manipulation means?  \n",
       "18  Why do people ask Quora questions which can be...  \n",
       "20        Why are rockets and boosters painted white?  \n",
       "29  How one should know that he/she completely pre...  \n",
       "31  How can I keep my nose from getting stuffy at ...  \n",
       "32  What Game of Thrones villain would you most li...  \n",
       "38                How do I prepare for civil service?  \n",
       "48  What are some of the products made from crude ...  \n",
       "49                              How to make friends ?  \n",
       "50  How is career launcher online program for RBI ...  \n",
       "51  How can you play a Blu Ray DVD on a regular DV...  \n",
       "53  What is the most delicious dish you've ever ea...  \n",
       "58  I can't remember my Gmail password or my recov...  \n",
       "62            How bad is the new book by J.K Rowling?  "
      ]
     },
     "execution_count": 10,
     "metadata": {},
     "output_type": "execute_result"
    }
   ],
   "source": [
    "train[train['is_duplicate']==1][:20][['question1', 'question2']]"
   ]
  },
  {
   "cell_type": "code",
   "execution_count": 11,
   "metadata": {
    "collapsed": false,
    "deletable": true,
    "editable": true
   },
   "outputs": [],
   "source": [
    "# Apply_func always MUST be defined above pool_apply, cheers!    \n",
    "apply_func = word_match_share\n",
    "train['word_share'] = pool_apply(train)\n",
    "test['word_share'] = pool_apply(test)"
   ]
  },
  {
   "cell_type": "code",
   "execution_count": 12,
   "metadata": {
    "collapsed": false,
    "deletable": true,
    "editable": true
   },
   "outputs": [],
   "source": [
    "apply_func = start_with_same_first_word\n",
    "train['start_with_same_world'] = pool_apply(train)\n",
    "test['start_with_same_world'] = pool_apply(test)"
   ]
  },
  {
   "cell_type": "code",
   "execution_count": 13,
   "metadata": {
    "collapsed": false,
    "deletable": true,
    "editable": true
   },
   "outputs": [],
   "source": [
    "feature = 'question1'\n",
    "apply_func = question_length\n",
    "train['q1_char_num'] = pool_apply(train)\n",
    "test['q1_char_num'] = pool_apply(test)\n",
    "\n",
    "feature = 'question2'\n",
    "apply_func = question_length\n",
    "train['q2_char_num'] = pool_apply(train)\n",
    "test['q2_char_num'] = pool_apply(test)\n",
    "\n",
    "feature = 'question1'\n",
    "apply_func = word_count\n",
    "train['q1_word_num'] = pool_apply(train)\n",
    "test['q1_word_num'] = pool_apply(test)\n",
    "\n",
    "feature = 'question2'\n",
    "apply_func = word_count\n",
    "train['q2_word_num'] = pool_apply(train)\n",
    "test['q2_word_num'] = pool_apply(test)"
   ]
  },
  {
   "cell_type": "code",
   "execution_count": 14,
   "metadata": {
    "collapsed": false,
    "deletable": true,
    "editable": true
   },
   "outputs": [],
   "source": [
    "apply_func = tfidf_word_match_share\n",
    "train['rfidf_share'] = pool_apply(train)\n",
    "test['rfidf_share'] = pool_apply(test)"
   ]
  },
  {
   "cell_type": "code",
   "execution_count": 15,
   "metadata": {
    "collapsed": false,
    "deletable": true,
    "editable": true
   },
   "outputs": [],
   "source": [
    "train['char_difference'] = abs(train['q1_char_num'] - train['q2_char_num'])\n",
    "train['word_difference'] = abs(train['q1_word_num'] - train['q2_word_num'])\n",
    "test['char_difference'] = abs(test['q1_char_num'] - test['q2_char_num'])\n",
    "test['word_difference'] = abs(test['q1_word_num'] - test['q2_word_num'])"
   ]
  },
  {
   "cell_type": "code",
   "execution_count": 16,
   "metadata": {
    "collapsed": false,
    "deletable": true,
    "editable": true
   },
   "outputs": [
    {
     "data": {
      "text/html": [
       "<div>\n",
       "<table border=\"1\" class=\"dataframe\">\n",
       "  <thead>\n",
       "    <tr style=\"text-align: right;\">\n",
       "      <th></th>\n",
       "      <th>id</th>\n",
       "      <th>qid1</th>\n",
       "      <th>qid2</th>\n",
       "      <th>question1</th>\n",
       "      <th>question2</th>\n",
       "      <th>is_duplicate</th>\n",
       "      <th>word_share</th>\n",
       "      <th>start_with_same_world</th>\n",
       "      <th>q1_char_num</th>\n",
       "      <th>q2_char_num</th>\n",
       "      <th>q1_word_num</th>\n",
       "      <th>q2_word_num</th>\n",
       "      <th>rfidf_share</th>\n",
       "      <th>char_difference</th>\n",
       "      <th>word_difference</th>\n",
       "    </tr>\n",
       "  </thead>\n",
       "  <tbody>\n",
       "    <tr>\n",
       "      <th>0</th>\n",
       "      <td>0</td>\n",
       "      <td>1</td>\n",
       "      <td>2</td>\n",
       "      <td>What is the step by step guide to invest in sh...</td>\n",
       "      <td>What is the step by step guide to invest in sh...</td>\n",
       "      <td>0</td>\n",
       "      <td>0.727273</td>\n",
       "      <td>1</td>\n",
       "      <td>66</td>\n",
       "      <td>57</td>\n",
       "      <td>14</td>\n",
       "      <td>12</td>\n",
       "      <td>0.772164</td>\n",
       "      <td>9</td>\n",
       "      <td>2</td>\n",
       "    </tr>\n",
       "    <tr>\n",
       "      <th>1</th>\n",
       "      <td>1</td>\n",
       "      <td>3</td>\n",
       "      <td>4</td>\n",
       "      <td>What is the story of Kohinoor (Koh-i-Noor) Dia...</td>\n",
       "      <td>What would happen if the Indian government sto...</td>\n",
       "      <td>0</td>\n",
       "      <td>0.307692</td>\n",
       "      <td>1</td>\n",
       "      <td>51</td>\n",
       "      <td>88</td>\n",
       "      <td>8</td>\n",
       "      <td>13</td>\n",
       "      <td>0.361758</td>\n",
       "      <td>37</td>\n",
       "      <td>5</td>\n",
       "    </tr>\n",
       "    <tr>\n",
       "      <th>2</th>\n",
       "      <td>2</td>\n",
       "      <td>5</td>\n",
       "      <td>6</td>\n",
       "      <td>How can I increase the speed of my internet co...</td>\n",
       "      <td>How can Internet speed be increased by hacking...</td>\n",
       "      <td>0</td>\n",
       "      <td>0.363636</td>\n",
       "      <td>1</td>\n",
       "      <td>73</td>\n",
       "      <td>59</td>\n",
       "      <td>14</td>\n",
       "      <td>10</td>\n",
       "      <td>0.355191</td>\n",
       "      <td>14</td>\n",
       "      <td>4</td>\n",
       "    </tr>\n",
       "    <tr>\n",
       "      <th>3</th>\n",
       "      <td>3</td>\n",
       "      <td>7</td>\n",
       "      <td>8</td>\n",
       "      <td>Why am I mentally very lonely? How can I solve...</td>\n",
       "      <td>Find the remainder when [math]23^{24}[/math] i...</td>\n",
       "      <td>0</td>\n",
       "      <td>0.000000</td>\n",
       "      <td>0</td>\n",
       "      <td>50</td>\n",
       "      <td>65</td>\n",
       "      <td>11</td>\n",
       "      <td>9</td>\n",
       "      <td>0.000000</td>\n",
       "      <td>15</td>\n",
       "      <td>2</td>\n",
       "    </tr>\n",
       "    <tr>\n",
       "      <th>4</th>\n",
       "      <td>4</td>\n",
       "      <td>9</td>\n",
       "      <td>10</td>\n",
       "      <td>Which one dissolve in water quikly sugar, salt...</td>\n",
       "      <td>Which fish would survive in salt water?</td>\n",
       "      <td>0</td>\n",
       "      <td>0.000000</td>\n",
       "      <td>1</td>\n",
       "      <td>76</td>\n",
       "      <td>39</td>\n",
       "      <td>13</td>\n",
       "      <td>7</td>\n",
       "      <td>0.000000</td>\n",
       "      <td>37</td>\n",
       "      <td>6</td>\n",
       "    </tr>\n",
       "  </tbody>\n",
       "</table>\n",
       "</div>"
      ],
      "text/plain": [
       "   id  qid1  qid2                                          question1  \\\n",
       "0   0     1     2  What is the step by step guide to invest in sh...   \n",
       "1   1     3     4  What is the story of Kohinoor (Koh-i-Noor) Dia...   \n",
       "2   2     5     6  How can I increase the speed of my internet co...   \n",
       "3   3     7     8  Why am I mentally very lonely? How can I solve...   \n",
       "4   4     9    10  Which one dissolve in water quikly sugar, salt...   \n",
       "\n",
       "                                           question2  is_duplicate  \\\n",
       "0  What is the step by step guide to invest in sh...             0   \n",
       "1  What would happen if the Indian government sto...             0   \n",
       "2  How can Internet speed be increased by hacking...             0   \n",
       "3  Find the remainder when [math]23^{24}[/math] i...             0   \n",
       "4            Which fish would survive in salt water?             0   \n",
       "\n",
       "   word_share  start_with_same_world  q1_char_num  q2_char_num  q1_word_num  \\\n",
       "0    0.727273                      1           66           57           14   \n",
       "1    0.307692                      1           51           88            8   \n",
       "2    0.363636                      1           73           59           14   \n",
       "3    0.000000                      0           50           65           11   \n",
       "4    0.000000                      1           76           39           13   \n",
       "\n",
       "   q2_word_num  rfidf_share  char_difference  word_difference  \n",
       "0           12     0.772164                9                2  \n",
       "1           13     0.361758               37                5  \n",
       "2           10     0.355191               14                4  \n",
       "3            9     0.000000               15                2  \n",
       "4            7     0.000000               37                6  "
      ]
     },
     "execution_count": 16,
     "metadata": {},
     "output_type": "execute_result"
    }
   ],
   "source": [
    "train.head()"
   ]
  },
  {
   "cell_type": "code",
   "execution_count": 17,
   "metadata": {
    "collapsed": false,
    "deletable": true,
    "editable": true
   },
   "outputs": [
    {
     "data": {
      "text/html": [
       "<div>\n",
       "<table border=\"1\" class=\"dataframe\">\n",
       "  <thead>\n",
       "    <tr style=\"text-align: right;\">\n",
       "      <th></th>\n",
       "      <th>test_id</th>\n",
       "      <th>question1</th>\n",
       "      <th>question2</th>\n",
       "    </tr>\n",
       "  </thead>\n",
       "  <tbody>\n",
       "    <tr>\n",
       "      <th>0</th>\n",
       "      <td>0</td>\n",
       "      <td>How does the Surface Pro himself 4 compare wit...</td>\n",
       "      <td>Why did Microsoft choose core m3 and not core ...</td>\n",
       "    </tr>\n",
       "    <tr>\n",
       "      <th>1</th>\n",
       "      <td>1</td>\n",
       "      <td>Should I have a hair transplant at age 24? How...</td>\n",
       "      <td>How much cost does hair transplant require?</td>\n",
       "    </tr>\n",
       "    <tr>\n",
       "      <th>2</th>\n",
       "      <td>2</td>\n",
       "      <td>What but is the best way to send money from Ch...</td>\n",
       "      <td>What you send money to China?</td>\n",
       "    </tr>\n",
       "    <tr>\n",
       "      <th>3</th>\n",
       "      <td>3</td>\n",
       "      <td>Which food not emulsifiers?</td>\n",
       "      <td>What foods fibre?</td>\n",
       "    </tr>\n",
       "    <tr>\n",
       "      <th>4</th>\n",
       "      <td>4</td>\n",
       "      <td>How \"aberystwyth\" start reading?</td>\n",
       "      <td>How their can I start reading?</td>\n",
       "    </tr>\n",
       "  </tbody>\n",
       "</table>\n",
       "</div>"
      ],
      "text/plain": [
       "   test_id                                          question1  \\\n",
       "0        0  How does the Surface Pro himself 4 compare wit...   \n",
       "1        1  Should I have a hair transplant at age 24? How...   \n",
       "2        2  What but is the best way to send money from Ch...   \n",
       "3        3                        Which food not emulsifiers?   \n",
       "4        4                   How \"aberystwyth\" start reading?   \n",
       "\n",
       "                                           question2  \n",
       "0  Why did Microsoft choose core m3 and not core ...  \n",
       "1        How much cost does hair transplant require?  \n",
       "2                      What you send money to China?  \n",
       "3                                  What foods fibre?  \n",
       "4                     How their can I start reading?  "
      ]
     },
     "execution_count": 17,
     "metadata": {},
     "output_type": "execute_result"
    }
   ],
   "source": [
    "test.head()"
   ]
  },
  {
   "cell_type": "markdown",
   "metadata": {
    "deletable": true,
    "editable": true
   },
   "source": [
    "## Word2Vec"
   ]
  },
  {
   "cell_type": "code",
   "execution_count": 18,
   "metadata": {
    "collapsed": true,
    "deletable": true,
    "editable": true
   },
   "outputs": [],
   "source": [
    "from gensim.models import word2vec\n",
    "\n",
    "from nltk.tokenize import word_tokenize\n",
    "from nltk.corpus.reader.wordnet import ADJ, ADJ_SAT, ADV, NOUN, VERB\n",
    "from nltk.stem import WordNetLemmatizer"
   ]
  },
  {
   "cell_type": "code",
   "execution_count": 19,
   "metadata": {
    "collapsed": false,
    "deletable": true,
    "editable": true
   },
   "outputs": [],
   "source": [
    "def build_corpus(data):\n",
    "    \"Creates a list of lists containing words from each sentence\"\n",
    "    corpus = []\n",
    "    for col in ['question1', 'question2']:\n",
    "        for sentence in data[col].iteritems():\n",
    "            word_list = sentence[1].split(\" \")\n",
    "            corpus.append(word_list)\n",
    "            \n",
    "    return corpus\n",
    "\n",
    "corpus = build_corpus(train_clean)  "
   ]
  },
  {
   "cell_type": "code",
   "execution_count": 20,
   "metadata": {
    "collapsed": false,
    "deletable": true,
    "editable": true
   },
   "outputs": [
    {
     "data": {
      "text/plain": [
       "array([ 1.66531444, -2.6076982 , -1.55004895, -0.56047791,  0.02588514,\n",
       "        0.56109214,  0.24540929, -1.03416407,  0.2651619 ,  0.71056539,\n",
       "        0.53173745,  2.43410349, -1.82260382, -0.60769838, -4.00416565,\n",
       "       -1.25950003,  1.968418  , -3.43402267, -2.57230663,  0.44623995,\n",
       "        0.14124124,  1.73834646, -1.02509892, -0.5528025 , -1.5985986 ,\n",
       "        0.38852143,  3.15907383,  0.71225041, -2.22475004, -1.36451101,\n",
       "        2.33302689,  2.45906925, -0.48566511,  1.68039298,  1.26377034,\n",
       "       -1.72000921,  1.69556677, -3.02244735, -0.72536319, -2.71408653,\n",
       "       -1.97752225,  0.2182361 ,  1.34421635, -2.55360794,  2.69507337,\n",
       "        2.64636898,  0.65941912,  2.70007825, -2.19196296, -2.63015628,\n",
       "       -2.49362659,  1.22135413,  0.3970907 ,  1.09797943, -2.29536223,\n",
       "       -0.84813648, -1.14950073, -0.79710531,  3.76239395,  0.64569944,\n",
       "        2.35649991, -1.1662575 , -1.69598496, -0.67901123, -2.23652768,\n",
       "        1.37600672, -1.18862998,  0.56982374, -0.15774135, -1.52214491,\n",
       "       -0.88946766,  0.54227799,  0.3404344 ,  0.01254987, -0.79409301,\n",
       "        0.41813257, -4.06851912, -1.40036213, -2.62452936,  2.53791237,\n",
       "       -0.63632417, -0.98941714,  1.09722865,  2.72044826,  1.40881503,\n",
       "       -1.09866416, -0.10737403, -3.37255979,  0.45478079,  2.36341667,\n",
       "       -1.89329422,  0.30011567,  2.01414251, -0.15598018,  1.89075029,\n",
       "       -2.16808677,  3.81687689,  3.48922372, -0.45489404, -0.64031816], dtype=float32)"
      ]
     },
     "execution_count": 20,
     "metadata": {},
     "output_type": "execute_result"
    }
   ],
   "source": [
    "word2vec_model = word2vec.Word2Vec(corpus, size=100, window=20, min_count=200, workers=4)\n",
    "word2vec_model.wv['trump']"
   ]
  },
  {
   "cell_type": "code",
   "execution_count": 21,
   "metadata": {
    "collapsed": false,
    "deletable": true,
    "editable": true
   },
   "outputs": [
    {
     "data": {
      "text/plain": [
       "True"
      ]
     },
     "execution_count": 21,
     "metadata": {},
     "output_type": "execute_result"
    }
   ],
   "source": [
    "word2vec_model.wv['question']\n",
    "\n",
    "'question' in word2vec_model.wv"
   ]
  },
  {
   "cell_type": "code",
   "execution_count": 24,
   "metadata": {
    "collapsed": false,
    "deletable": true,
    "editable": true
   },
   "outputs": [],
   "source": [
    "def question_to_word2vec(question_string, word2vec_model):\n",
    "    \"\"\"\n",
    "    Given question string, returns word2vec vector of the questions tring\n",
    "    :param question_string : The given question as a string.\n",
    "    \"\"\"\n",
    "    stops_words = set(stopwords.words(\"english\"))\n",
    "    \n",
    "    if not isinstance(question_string, str):\n",
    "        return 0\n",
    "    \n",
    "    words = word_tokenize(question_string)[:-1]\n",
    "    non_stop_words = []\n",
    "    for word in words:\n",
    "        if word.lower().strip('-') not in stops_words:\n",
    "            word = WordNetLemmatizer().lemmatize(word, NOUN)\n",
    "            \n",
    "            if word.lower() in word2vec_model.wv:\n",
    "                non_stop_words.append(word.lower().strip('-'))\n",
    "            \n",
    "    if len(non_stop_words) == 0:\n",
    "        return 0\n",
    "    \n",
    "    vectors = [word2vec_model.wv[word] for word in non_stop_words]\n",
    "    vector = sum(vectors)/float(len(non_stop_words))\n",
    "    \n",
    "    return vector\n",
    "\n",
    "def numpy_cosine(row):\n",
    "    \"\"\"\n",
    "    Cosine similarity between q1 and q2 question instances using their vectors\n",
    "    :return: similarity between q1 and q2\n",
    "    \"\"\"\n",
    "    q1, q2 = row['question1'], row['question2']\n",
    "    q1_vec, q2_vec = question_to_word2vec(q1, word2vec_model), question_to_word2vec(q2, word2vec_model)\n",
    "    \n",
    "    with np.errstate(invalid='ignore'):\n",
    "        cosine_similarity = np.dot(q1_vec, q2_vec) / (np.linalg.norm(q1_vec) * np.linalg.norm(q2_vec))\n",
    "    \n",
    "    return cosine_similarity if isinstance(cosine_similarity, np.float32) else 0.0"
   ]
  },
  {
   "cell_type": "code",
   "execution_count": 25,
   "metadata": {
    "collapsed": false,
    "deletable": true,
    "editable": true
   },
   "outputs": [],
   "source": [
    "apply_func = numpy_cosine\n",
    "train['cosin_sim'] = pool_apply(train, proc_num=4)\n",
    "test['cosin_sim'] = pool_apply(test, proc_num=4)"
   ]
  },
  {
   "cell_type": "code",
   "execution_count": 26,
   "metadata": {
    "collapsed": false,
    "deletable": true,
    "editable": true
   },
   "outputs": [
    {
     "data": {
      "text/html": [
       "<div>\n",
       "<table border=\"1\" class=\"dataframe\">\n",
       "  <thead>\n",
       "    <tr style=\"text-align: right;\">\n",
       "      <th></th>\n",
       "      <th>id</th>\n",
       "      <th>qid1</th>\n",
       "      <th>qid2</th>\n",
       "      <th>question1</th>\n",
       "      <th>question2</th>\n",
       "      <th>is_duplicate</th>\n",
       "      <th>word_share</th>\n",
       "      <th>start_with_same_world</th>\n",
       "      <th>q1_char_num</th>\n",
       "      <th>q2_char_num</th>\n",
       "      <th>q1_word_num</th>\n",
       "      <th>q2_word_num</th>\n",
       "      <th>rfidf_share</th>\n",
       "      <th>char_difference</th>\n",
       "      <th>word_difference</th>\n",
       "      <th>cosin_sim</th>\n",
       "    </tr>\n",
       "  </thead>\n",
       "  <tbody>\n",
       "    <tr>\n",
       "      <th>38</th>\n",
       "      <td>38</td>\n",
       "      <td>77</td>\n",
       "      <td>78</td>\n",
       "      <td>How do we prepare for UPSC?</td>\n",
       "      <td>How do I prepare for civil service?</td>\n",
       "      <td>1</td>\n",
       "      <td>0.4</td>\n",
       "      <td>1</td>\n",
       "      <td>27</td>\n",
       "      <td>35</td>\n",
       "      <td>6</td>\n",
       "      <td>7</td>\n",
       "      <td>0.328275</td>\n",
       "      <td>8</td>\n",
       "      <td>1</td>\n",
       "      <td>0.804913</td>\n",
       "    </tr>\n",
       "    <tr>\n",
       "      <th>39</th>\n",
       "      <td>39</td>\n",
       "      <td>79</td>\n",
       "      <td>80</td>\n",
       "      <td>What is the stall speed and AOA of an f-14 wit...</td>\n",
       "      <td>Why did aircraft stop using variable-sweep win...</td>\n",
       "      <td>0</td>\n",
       "      <td>0.0</td>\n",
       "      <td>0</td>\n",
       "      <td>71</td>\n",
       "      <td>72</td>\n",
       "      <td>15</td>\n",
       "      <td>12</td>\n",
       "      <td>0.000000</td>\n",
       "      <td>1</td>\n",
       "      <td>3</td>\n",
       "      <td>0.281494</td>\n",
       "    </tr>\n",
       "    <tr>\n",
       "      <th>40</th>\n",
       "      <td>40</td>\n",
       "      <td>81</td>\n",
       "      <td>82</td>\n",
       "      <td>Why do Slavs squat?</td>\n",
       "      <td>Will squats make my legs thicker?</td>\n",
       "      <td>0</td>\n",
       "      <td>0.0</td>\n",
       "      <td>0</td>\n",
       "      <td>19</td>\n",
       "      <td>33</td>\n",
       "      <td>4</td>\n",
       "      <td>6</td>\n",
       "      <td>0.000000</td>\n",
       "      <td>14</td>\n",
       "      <td>2</td>\n",
       "      <td>0.000000</td>\n",
       "    </tr>\n",
       "  </tbody>\n",
       "</table>\n",
       "</div>"
      ],
      "text/plain": [
       "    id  qid1  qid2                                          question1  \\\n",
       "38  38    77    78                        How do we prepare for UPSC?   \n",
       "39  39    79    80  What is the stall speed and AOA of an f-14 wit...   \n",
       "40  40    81    82                                Why do Slavs squat?   \n",
       "\n",
       "                                            question2  is_duplicate  \\\n",
       "38                How do I prepare for civil service?             1   \n",
       "39  Why did aircraft stop using variable-sweep win...             0   \n",
       "40                  Will squats make my legs thicker?             0   \n",
       "\n",
       "    word_share  start_with_same_world  q1_char_num  q2_char_num  q1_word_num  \\\n",
       "38         0.4                      1           27           35            6   \n",
       "39         0.0                      0           71           72           15   \n",
       "40         0.0                      0           19           33            4   \n",
       "\n",
       "    q2_word_num  rfidf_share  char_difference  word_difference  cosin_sim  \n",
       "38            7     0.328275                8                1   0.804913  \n",
       "39           12     0.000000                1                3   0.281494  \n",
       "40            6     0.000000               14                2   0.000000  "
      ]
     },
     "execution_count": 26,
     "metadata": {},
     "output_type": "execute_result"
    }
   ],
   "source": [
    "train[38:41]"
   ]
  },
  {
   "cell_type": "markdown",
   "metadata": {
    "deletable": true,
    "editable": true
   },
   "source": [
    "## Feature picking"
   ]
  },
  {
   "cell_type": "code",
   "execution_count": 54,
   "metadata": {
    "collapsed": true,
    "deletable": true,
    "editable": true
   },
   "outputs": [],
   "source": [
    "try:\n",
    "    from sklearn.model_selection import train_test_split\n",
    "except ImportError:\n",
    "    from sklearn.cross_validation import train_test_split\n",
    "\n",
    "#features = ['cosin_sim', 'word_share', 'q1_char_num', 'q1_word_num', 'q2_char_num', 'q2_word_num',\n",
    "#            'start_with_same_world', 'rfidf_share']\n",
    "\n",
    "features = ['cosin_sim', 'word_share', 'q1_char_num', 'q1_word_num', 'q2_char_num', 'q2_word_num',\n",
    "            'start_with_same_world', 'rfidf_share', 'char_difference', 'word_difference']\n",
    "\n",
    "#features = ['cosin_sim', 'start_with_same_world', 'rfidf_share']\n",
    "\n",
    "target = 'is_duplicate'\n",
    "\n",
    "X = train[features]\n",
    "y = train[target]"
   ]
  },
  {
   "cell_type": "markdown",
   "metadata": {
    "deletable": true,
    "editable": true
   },
   "source": [
    "## Oversampling"
   ]
  },
  {
   "cell_type": "code",
   "execution_count": 55,
   "metadata": {
    "collapsed": false,
    "deletable": true,
    "editable": true
   },
   "outputs": [
    {
     "name": "stdout",
     "output_type": "stream",
     "text": [
      "0.19124366100096607\n"
     ]
    }
   ],
   "source": [
    "pos_train = X[y == 1]\n",
    "neg_train = X[y == 0]\n",
    "\n",
    "# Now we oversample the negative class\n",
    "# There is likely a much more elegant way to do this...\n",
    "p = 0.165\n",
    "scale = ((len(pos_train) / (len(pos_train) + len(neg_train))) / p) - 1\n",
    "while scale > 1:\n",
    "    neg_train = pd.concat([neg_train, neg_train])\n",
    "    scale -=1\n",
    "neg_train = pd.concat([neg_train, neg_train[:int(scale * len(neg_train))]])\n",
    "print(len(pos_train) / (len(pos_train) + len(neg_train)))\n",
    "\n",
    "X = pd.concat([pos_train, neg_train])\n",
    "y = (np.zeros(len(pos_train)) + 1).tolist() + np.zeros(len(neg_train)).tolist()\n",
    "\n",
    "del pos_train, neg_train"
   ]
  },
  {
   "cell_type": "markdown",
   "metadata": {
    "deletable": true,
    "editable": true
   },
   "source": [
    "## Cross validation"
   ]
  },
  {
   "cell_type": "code",
   "execution_count": 56,
   "metadata": {
    "collapsed": false,
    "deletable": true,
    "editable": true
   },
   "outputs": [],
   "source": [
    "X_train, X_vald, y_train, y_vald = train_test_split(X, y, test_size=0.2, random_state=42)\n",
    "X_test = test[features]"
   ]
  },
  {
   "cell_type": "code",
   "execution_count": null,
   "metadata": {
    "collapsed": false,
    "deletable": true,
    "editable": true
   },
   "outputs": [],
   "source": [
    "X_test.head()"
   ]
  },
  {
   "cell_type": "code",
   "execution_count": 36,
   "metadata": {
    "collapsed": false,
    "deletable": true,
    "editable": true
   },
   "outputs": [
    {
     "data": {
      "text/html": [
       "<div>\n",
       "<table border=\"1\" class=\"dataframe\">\n",
       "  <thead>\n",
       "    <tr style=\"text-align: right;\">\n",
       "      <th></th>\n",
       "      <th>cosin_sim</th>\n",
       "      <th>word_share</th>\n",
       "      <th>q1_char_num</th>\n",
       "      <th>q1_word_num</th>\n",
       "      <th>q2_char_num</th>\n",
       "      <th>q2_word_num</th>\n",
       "      <th>start_with_same_world</th>\n",
       "      <th>rfidf_share</th>\n",
       "    </tr>\n",
       "  </thead>\n",
       "  <tbody>\n",
       "    <tr>\n",
       "      <th>5</th>\n",
       "      <td>0.979410</td>\n",
       "      <td>0.470588</td>\n",
       "      <td>86</td>\n",
       "      <td>16</td>\n",
       "      <td>90</td>\n",
       "      <td>16</td>\n",
       "      <td>0</td>\n",
       "      <td>0.510771</td>\n",
       "    </tr>\n",
       "    <tr>\n",
       "      <th>7</th>\n",
       "      <td>0.536462</td>\n",
       "      <td>0.500000</td>\n",
       "      <td>30</td>\n",
       "      <td>7</td>\n",
       "      <td>41</td>\n",
       "      <td>9</td>\n",
       "      <td>0</td>\n",
       "      <td>0.645836</td>\n",
       "    </tr>\n",
       "    <tr>\n",
       "      <th>11</th>\n",
       "      <td>0.808033</td>\n",
       "      <td>0.571429</td>\n",
       "      <td>43</td>\n",
       "      <td>9</td>\n",
       "      <td>38</td>\n",
       "      <td>8</td>\n",
       "      <td>1</td>\n",
       "      <td>0.654071</td>\n",
       "    </tr>\n",
       "    <tr>\n",
       "      <th>12</th>\n",
       "      <td>0.919684</td>\n",
       "      <td>1.000000</td>\n",
       "      <td>36</td>\n",
       "      <td>7</td>\n",
       "      <td>39</td>\n",
       "      <td>8</td>\n",
       "      <td>0</td>\n",
       "      <td>1.000000</td>\n",
       "    </tr>\n",
       "    <tr>\n",
       "      <th>13</th>\n",
       "      <td>0.938224</td>\n",
       "      <td>0.571429</td>\n",
       "      <td>43</td>\n",
       "      <td>7</td>\n",
       "      <td>38</td>\n",
       "      <td>6</td>\n",
       "      <td>1</td>\n",
       "      <td>0.536457</td>\n",
       "    </tr>\n",
       "  </tbody>\n",
       "</table>\n",
       "</div>"
      ],
      "text/plain": [
       "    cosin_sim  word_share  q1_char_num  q1_word_num  q2_char_num  q2_word_num  \\\n",
       "5    0.979410    0.470588           86           16           90           16   \n",
       "7    0.536462    0.500000           30            7           41            9   \n",
       "11   0.808033    0.571429           43            9           38            8   \n",
       "12   0.919684    1.000000           36            7           39            8   \n",
       "13   0.938224    0.571429           43            7           38            6   \n",
       "\n",
       "    start_with_same_world  rfidf_share  \n",
       "5                       0     0.510771  \n",
       "7                       0     0.645836  \n",
       "11                      1     0.654071  \n",
       "12                      0     1.000000  \n",
       "13                      1     0.536457  "
      ]
     },
     "execution_count": 36,
     "metadata": {},
     "output_type": "execute_result"
    }
   ],
   "source": [
    "X.head()"
   ]
  },
  {
   "cell_type": "markdown",
   "metadata": {
    "deletable": true,
    "editable": true
   },
   "source": [
    "## Transofmrations"
   ]
  },
  {
   "cell_type": "code",
   "execution_count": null,
   "metadata": {
    "collapsed": true,
    "deletable": true,
    "editable": true
   },
   "outputs": [],
   "source": [
    "from sklearn.preprocessing import StandardScaler"
   ]
  },
  {
   "cell_type": "code",
   "execution_count": null,
   "metadata": {
    "collapsed": false,
    "deletable": true,
    "editable": true
   },
   "outputs": [],
   "source": [
    "# Model works fine without scaling\n",
    "\n",
    "scaler = StandardScaler().fit(X_train)\n",
    "\n",
    "X_train_scaled = scaler.transform(X_train)\n",
    "X_test_scaled = scaler.transform(X_test)\n",
    "X_vald_scaled = scaler.transform(X_vald)"
   ]
  },
  {
   "cell_type": "markdown",
   "metadata": {
    "deletable": true,
    "editable": true
   },
   "source": [
    "## Model"
   ]
  },
  {
   "cell_type": "code",
   "execution_count": 57,
   "metadata": {
    "collapsed": false,
    "deletable": true,
    "editable": true
   },
   "outputs": [],
   "source": [
    "from sklearn.metrics import f1_score, accuracy_score, precision_score, recall_score, log_loss\n",
    "\n",
    "from xgboost import XGBClassifier\n",
    "#import lightgbm\n",
    "\n",
    "from sklearn.naive_bayes import GaussianNB\n",
    "from sklearn.naive_bayes import MultinomialNB\n",
    "from sklearn.naive_bayes import BernoulliNB\n",
    "\n",
    "from sklearn.ensemble import RandomForestClassifier\n",
    "from sklearn.ensemble import GradientBoostingClassifier\n",
    "from sklearn.ensemble import ExtraTreesClassifier\n",
    "from sklearn.ensemble import VotingClassifier\n",
    "from sklearn.ensemble import AdaBoostClassifier\n",
    "\n",
    "from sklearn.svm import SVC\n",
    "from sklearn.neighbors import KNeighborsClassifier"
   ]
  },
  {
   "cell_type": "code",
   "execution_count": null,
   "metadata": {
    "collapsed": false,
    "deletable": true,
    "editable": true
   },
   "outputs": [
    {
     "name": "stdout",
     "output_type": "stream",
     "text": [
      "[0]\tvalidation_0-logloss:0.50347\tvalidation_1-logloss:0.503174\n",
      "Multiple eval metrics have been passed: 'validation_1-logloss' will be used for early stopping.\n",
      "\n",
      "Will train until validation_1-logloss hasn't improved in 50 rounds.\n",
      "[1]\tvalidation_0-logloss:0.432021\tvalidation_1-logloss:0.431672\n",
      "[2]\tvalidation_0-logloss:0.396397\tvalidation_1-logloss:0.39616\n",
      "[3]\tvalidation_0-logloss:0.376656\tvalidation_1-logloss:0.376446\n",
      "[4]\tvalidation_0-logloss:0.365873\tvalidation_1-logloss:0.365861\n",
      "[5]\tvalidation_0-logloss:0.359805\tvalidation_1-logloss:0.359844\n",
      "[6]\tvalidation_0-logloss:0.356158\tvalidation_1-logloss:0.356256\n",
      "[7]\tvalidation_0-logloss:0.353739\tvalidation_1-logloss:0.353871\n",
      "[8]\tvalidation_0-logloss:0.352267\tvalidation_1-logloss:0.35247\n",
      "[9]\tvalidation_0-logloss:0.351065\tvalidation_1-logloss:0.351359\n",
      "[10]\tvalidation_0-logloss:0.350249\tvalidation_1-logloss:0.350587\n",
      "[11]\tvalidation_0-logloss:0.349387\tvalidation_1-logloss:0.349853\n",
      "[12]\tvalidation_0-logloss:0.348684\tvalidation_1-logloss:0.349217\n",
      "[13]\tvalidation_0-logloss:0.347989\tvalidation_1-logloss:0.348586\n",
      "[14]\tvalidation_0-logloss:0.347667\tvalidation_1-logloss:0.348432\n",
      "[15]\tvalidation_0-logloss:0.347129\tvalidation_1-logloss:0.347922\n",
      "[16]\tvalidation_0-logloss:0.346601\tvalidation_1-logloss:0.347471\n",
      "[17]\tvalidation_0-logloss:0.345979\tvalidation_1-logloss:0.346898\n",
      "[18]\tvalidation_0-logloss:0.345014\tvalidation_1-logloss:0.346228\n",
      "[19]\tvalidation_0-logloss:0.344421\tvalidation_1-logloss:0.345801\n",
      "[20]\tvalidation_0-logloss:0.343834\tvalidation_1-logloss:0.345236\n",
      "[21]\tvalidation_0-logloss:0.343325\tvalidation_1-logloss:0.344763\n",
      "[22]\tvalidation_0-logloss:0.342811\tvalidation_1-logloss:0.344448\n",
      "[23]\tvalidation_0-logloss:0.342692\tvalidation_1-logloss:0.344427\n",
      "[24]\tvalidation_0-logloss:0.342405\tvalidation_1-logloss:0.344183\n",
      "[25]\tvalidation_0-logloss:0.342219\tvalidation_1-logloss:0.344112\n",
      "[26]\tvalidation_0-logloss:0.341791\tvalidation_1-logloss:0.343828\n",
      "[27]\tvalidation_0-logloss:0.341314\tvalidation_1-logloss:0.343483\n",
      "[28]\tvalidation_0-logloss:0.340899\tvalidation_1-logloss:0.343139\n",
      "[29]\tvalidation_0-logloss:0.340476\tvalidation_1-logloss:0.342833\n",
      "[30]\tvalidation_0-logloss:0.340056\tvalidation_1-logloss:0.342484\n",
      "[31]\tvalidation_0-logloss:0.339786\tvalidation_1-logloss:0.34233\n",
      "[32]\tvalidation_0-logloss:0.339632\tvalidation_1-logloss:0.342243\n",
      "[33]\tvalidation_0-logloss:0.339115\tvalidation_1-logloss:0.341755\n",
      "[34]\tvalidation_0-logloss:0.338742\tvalidation_1-logloss:0.341507\n",
      "[35]\tvalidation_0-logloss:0.338553\tvalidation_1-logloss:0.341397\n",
      "[36]\tvalidation_0-logloss:0.338184\tvalidation_1-logloss:0.341109\n",
      "[37]\tvalidation_0-logloss:0.337987\tvalidation_1-logloss:0.340952\n",
      "[38]\tvalidation_0-logloss:0.337755\tvalidation_1-logloss:0.340789\n",
      "[39]\tvalidation_0-logloss:0.337592\tvalidation_1-logloss:0.34065\n",
      "[40]\tvalidation_0-logloss:0.337532\tvalidation_1-logloss:0.340628\n",
      "[41]\tvalidation_0-logloss:0.337381\tvalidation_1-logloss:0.340576\n",
      "[42]\tvalidation_0-logloss:0.337211\tvalidation_1-logloss:0.340491\n",
      "[43]\tvalidation_0-logloss:0.336922\tvalidation_1-logloss:0.340226\n",
      "[44]\tvalidation_0-logloss:0.336616\tvalidation_1-logloss:0.340075\n",
      "[45]\tvalidation_0-logloss:0.33656\tvalidation_1-logloss:0.340057\n",
      "[46]\tvalidation_0-logloss:0.336452\tvalidation_1-logloss:0.340026\n",
      "[47]\tvalidation_0-logloss:0.336307\tvalidation_1-logloss:0.339937\n",
      "[48]\tvalidation_0-logloss:0.336169\tvalidation_1-logloss:0.339835\n",
      "[49]\tvalidation_0-logloss:0.336017\tvalidation_1-logloss:0.339746\n",
      "[50]\tvalidation_0-logloss:0.335812\tvalidation_1-logloss:0.339661\n",
      "[51]\tvalidation_0-logloss:0.335646\tvalidation_1-logloss:0.339543\n",
      "[52]\tvalidation_0-logloss:0.335522\tvalidation_1-logloss:0.33947\n",
      "[53]\tvalidation_0-logloss:0.335198\tvalidation_1-logloss:0.339253\n",
      "[54]\tvalidation_0-logloss:0.335089\tvalidation_1-logloss:0.339233\n",
      "[55]\tvalidation_0-logloss:0.335005\tvalidation_1-logloss:0.339219\n",
      "[56]\tvalidation_0-logloss:0.334899\tvalidation_1-logloss:0.339178\n",
      "[57]\tvalidation_0-logloss:0.334703\tvalidation_1-logloss:0.339142\n",
      "[58]\tvalidation_0-logloss:0.334536\tvalidation_1-logloss:0.339029\n",
      "[59]\tvalidation_0-logloss:0.334426\tvalidation_1-logloss:0.338953\n",
      "[60]\tvalidation_0-logloss:0.334339\tvalidation_1-logloss:0.338898\n",
      "[61]\tvalidation_0-logloss:0.334255\tvalidation_1-logloss:0.33893\n",
      "[62]\tvalidation_0-logloss:0.334183\tvalidation_1-logloss:0.338891\n",
      "[63]\tvalidation_0-logloss:0.334084\tvalidation_1-logloss:0.33884\n",
      "[64]\tvalidation_0-logloss:0.333886\tvalidation_1-logloss:0.338729\n",
      "[65]\tvalidation_0-logloss:0.333778\tvalidation_1-logloss:0.338633\n",
      "[66]\tvalidation_0-logloss:0.333665\tvalidation_1-logloss:0.338528\n",
      "[67]\tvalidation_0-logloss:0.333444\tvalidation_1-logloss:0.338441\n",
      "[68]\tvalidation_0-logloss:0.333372\tvalidation_1-logloss:0.338437\n",
      "[69]\tvalidation_0-logloss:0.333301\tvalidation_1-logloss:0.338408\n",
      "[70]\tvalidation_0-logloss:0.333238\tvalidation_1-logloss:0.338412\n",
      "[71]\tvalidation_0-logloss:0.333159\tvalidation_1-logloss:0.338386\n",
      "[72]\tvalidation_0-logloss:0.333011\tvalidation_1-logloss:0.33832\n",
      "[73]\tvalidation_0-logloss:0.332793\tvalidation_1-logloss:0.338073\n",
      "[74]\tvalidation_0-logloss:0.332617\tvalidation_1-logloss:0.338011\n",
      "[75]\tvalidation_0-logloss:0.332499\tvalidation_1-logloss:0.337901\n",
      "[76]\tvalidation_0-logloss:0.332306\tvalidation_1-logloss:0.337811\n",
      "[77]\tvalidation_0-logloss:0.332104\tvalidation_1-logloss:0.337703\n",
      "[78]\tvalidation_0-logloss:0.332031\tvalidation_1-logloss:0.337694\n",
      "[79]\tvalidation_0-logloss:0.331951\tvalidation_1-logloss:0.337679\n",
      "[80]\tvalidation_0-logloss:0.331789\tvalidation_1-logloss:0.337614\n",
      "[81]\tvalidation_0-logloss:0.33173\tvalidation_1-logloss:0.337603\n",
      "[82]\tvalidation_0-logloss:0.331668\tvalidation_1-logloss:0.337616\n",
      "[83]\tvalidation_0-logloss:0.331508\tvalidation_1-logloss:0.337535\n",
      "[84]\tvalidation_0-logloss:0.331448\tvalidation_1-logloss:0.337493\n",
      "[85]\tvalidation_0-logloss:0.331332\tvalidation_1-logloss:0.337412\n",
      "[86]\tvalidation_0-logloss:0.331236\tvalidation_1-logloss:0.337343\n",
      "[87]\tvalidation_0-logloss:0.331164\tvalidation_1-logloss:0.337329\n",
      "[88]\tvalidation_0-logloss:0.33111\tvalidation_1-logloss:0.337331\n",
      "[89]\tvalidation_0-logloss:0.331014\tvalidation_1-logloss:0.337271\n",
      "[90]\tvalidation_0-logloss:0.330847\tvalidation_1-logloss:0.33717\n",
      "[91]\tvalidation_0-logloss:0.33074\tvalidation_1-logloss:0.337186\n",
      "[92]\tvalidation_0-logloss:0.330645\tvalidation_1-logloss:0.337166\n",
      "[93]\tvalidation_0-logloss:0.330556\tvalidation_1-logloss:0.337134\n",
      "[94]\tvalidation_0-logloss:0.330414\tvalidation_1-logloss:0.337028\n",
      "[95]\tvalidation_0-logloss:0.330331\tvalidation_1-logloss:0.336988\n",
      "[96]\tvalidation_0-logloss:0.330204\tvalidation_1-logloss:0.336943\n",
      "[97]\tvalidation_0-logloss:0.330118\tvalidation_1-logloss:0.336943\n",
      "[98]\tvalidation_0-logloss:0.330059\tvalidation_1-logloss:0.33695\n",
      "[99]\tvalidation_0-logloss:0.329916\tvalidation_1-logloss:0.336844\n",
      "[100]\tvalidation_0-logloss:0.329807\tvalidation_1-logloss:0.336807\n",
      "[101]\tvalidation_0-logloss:0.329693\tvalidation_1-logloss:0.336758\n",
      "[102]\tvalidation_0-logloss:0.329561\tvalidation_1-logloss:0.336668\n",
      "[103]\tvalidation_0-logloss:0.32947\tvalidation_1-logloss:0.336638\n",
      "[104]\tvalidation_0-logloss:0.329412\tvalidation_1-logloss:0.336606\n",
      "[105]\tvalidation_0-logloss:0.329286\tvalidation_1-logloss:0.336577\n",
      "[106]\tvalidation_0-logloss:0.329221\tvalidation_1-logloss:0.336573\n",
      "[107]\tvalidation_0-logloss:0.329169\tvalidation_1-logloss:0.336589\n",
      "[108]\tvalidation_0-logloss:0.329104\tvalidation_1-logloss:0.336589\n",
      "[109]\tvalidation_0-logloss:0.329035\tvalidation_1-logloss:0.33658\n",
      "[110]\tvalidation_0-logloss:0.328895\tvalidation_1-logloss:0.336482\n",
      "[111]\tvalidation_0-logloss:0.328866\tvalidation_1-logloss:0.336492\n",
      "[112]\tvalidation_0-logloss:0.328715\tvalidation_1-logloss:0.336409\n",
      "[113]\tvalidation_0-logloss:0.328561\tvalidation_1-logloss:0.336327\n",
      "[114]\tvalidation_0-logloss:0.32849\tvalidation_1-logloss:0.33631\n",
      "[115]\tvalidation_0-logloss:0.328425\tvalidation_1-logloss:0.336296\n",
      "[116]\tvalidation_0-logloss:0.328289\tvalidation_1-logloss:0.336226\n",
      "[117]\tvalidation_0-logloss:0.328211\tvalidation_1-logloss:0.336176\n",
      "[118]\tvalidation_0-logloss:0.328161\tvalidation_1-logloss:0.33613\n",
      "[119]\tvalidation_0-logloss:0.328118\tvalidation_1-logloss:0.3361\n",
      "[120]\tvalidation_0-logloss:0.327981\tvalidation_1-logloss:0.336103\n",
      "[121]\tvalidation_0-logloss:0.32792\tvalidation_1-logloss:0.336046\n",
      "[122]\tvalidation_0-logloss:0.327796\tvalidation_1-logloss:0.336015\n",
      "[123]\tvalidation_0-logloss:0.327746\tvalidation_1-logloss:0.335981\n",
      "[124]\tvalidation_0-logloss:0.327621\tvalidation_1-logloss:0.335982\n",
      "[125]\tvalidation_0-logloss:0.327589\tvalidation_1-logloss:0.335974\n",
      "[126]\tvalidation_0-logloss:0.327473\tvalidation_1-logloss:0.335946\n",
      "[127]\tvalidation_0-logloss:0.327384\tvalidation_1-logloss:0.335902\n",
      "[128]\tvalidation_0-logloss:0.327249\tvalidation_1-logloss:0.335815\n",
      "[129]\tvalidation_0-logloss:0.327169\tvalidation_1-logloss:0.335826\n",
      "[130]\tvalidation_0-logloss:0.327074\tvalidation_1-logloss:0.335801\n",
      "[131]\tvalidation_0-logloss:0.326955\tvalidation_1-logloss:0.33577\n",
      "[132]\tvalidation_0-logloss:0.326882\tvalidation_1-logloss:0.335747\n",
      "[133]\tvalidation_0-logloss:0.326757\tvalidation_1-logloss:0.335636\n",
      "[134]\tvalidation_0-logloss:0.326642\tvalidation_1-logloss:0.335563\n",
      "[135]\tvalidation_0-logloss:0.326598\tvalidation_1-logloss:0.335575\n",
      "[136]\tvalidation_0-logloss:0.326554\tvalidation_1-logloss:0.335526\n",
      "[137]\tvalidation_0-logloss:0.326502\tvalidation_1-logloss:0.335509\n",
      "[138]\tvalidation_0-logloss:0.326418\tvalidation_1-logloss:0.335481\n",
      "[139]\tvalidation_0-logloss:0.326358\tvalidation_1-logloss:0.335446\n",
      "[140]\tvalidation_0-logloss:0.326249\tvalidation_1-logloss:0.33539\n",
      "[141]\tvalidation_0-logloss:0.326189\tvalidation_1-logloss:0.335362\n",
      "[142]\tvalidation_0-logloss:0.32608\tvalidation_1-logloss:0.335287\n",
      "[143]\tvalidation_0-logloss:0.326033\tvalidation_1-logloss:0.335296\n",
      "[144]\tvalidation_0-logloss:0.325934\tvalidation_1-logloss:0.335232\n",
      "[145]\tvalidation_0-logloss:0.325825\tvalidation_1-logloss:0.335169\n",
      "[146]\tvalidation_0-logloss:0.325774\tvalidation_1-logloss:0.335157\n",
      "[147]\tvalidation_0-logloss:0.325692\tvalidation_1-logloss:0.335147\n",
      "[148]\tvalidation_0-logloss:0.325621\tvalidation_1-logloss:0.335077\n",
      "[149]\tvalidation_0-logloss:0.325485\tvalidation_1-logloss:0.334985\n",
      "[150]\tvalidation_0-logloss:0.325346\tvalidation_1-logloss:0.334935\n",
      "[151]\tvalidation_0-logloss:0.325328\tvalidation_1-logloss:0.334917\n",
      "[152]\tvalidation_0-logloss:0.325302\tvalidation_1-logloss:0.334909\n",
      "[153]\tvalidation_0-logloss:0.325235\tvalidation_1-logloss:0.334876\n",
      "[154]\tvalidation_0-logloss:0.325183\tvalidation_1-logloss:0.334888\n",
      "[155]\tvalidation_0-logloss:0.325109\tvalidation_1-logloss:0.334846\n",
      "[156]\tvalidation_0-logloss:0.324979\tvalidation_1-logloss:0.334835\n",
      "[157]\tvalidation_0-logloss:0.3249\tvalidation_1-logloss:0.334789\n",
      "[158]\tvalidation_0-logloss:0.324836\tvalidation_1-logloss:0.334738\n",
      "[159]\tvalidation_0-logloss:0.324752\tvalidation_1-logloss:0.334712\n",
      "[160]\tvalidation_0-logloss:0.324677\tvalidation_1-logloss:0.33467\n",
      "[161]\tvalidation_0-logloss:0.324626\tvalidation_1-logloss:0.334676\n",
      "[162]\tvalidation_0-logloss:0.324567\tvalidation_1-logloss:0.334679\n",
      "[163]\tvalidation_0-logloss:0.324506\tvalidation_1-logloss:0.334644\n",
      "[164]\tvalidation_0-logloss:0.324436\tvalidation_1-logloss:0.334623\n",
      "[165]\tvalidation_0-logloss:0.32441\tvalidation_1-logloss:0.334609\n",
      "[166]\tvalidation_0-logloss:0.324379\tvalidation_1-logloss:0.334613\n",
      "[167]\tvalidation_0-logloss:0.324302\tvalidation_1-logloss:0.334593\n",
      "[168]\tvalidation_0-logloss:0.324258\tvalidation_1-logloss:0.334568\n",
      "[169]\tvalidation_0-logloss:0.32418\tvalidation_1-logloss:0.334581\n",
      "[170]\tvalidation_0-logloss:0.324108\tvalidation_1-logloss:0.334567\n",
      "[171]\tvalidation_0-logloss:0.324062\tvalidation_1-logloss:0.334553\n",
      "[172]\tvalidation_0-logloss:0.323994\tvalidation_1-logloss:0.334544\n",
      "[173]\tvalidation_0-logloss:0.323896\tvalidation_1-logloss:0.334517\n",
      "[174]\tvalidation_0-logloss:0.323839\tvalidation_1-logloss:0.334476\n",
      "[175]\tvalidation_0-logloss:0.323708\tvalidation_1-logloss:0.334423\n",
      "[176]\tvalidation_0-logloss:0.323637\tvalidation_1-logloss:0.334442\n",
      "[177]\tvalidation_0-logloss:0.32359\tvalidation_1-logloss:0.33445\n",
      "[178]\tvalidation_0-logloss:0.323512\tvalidation_1-logloss:0.334428\n",
      "[179]\tvalidation_0-logloss:0.323441\tvalidation_1-logloss:0.334396\n",
      "[180]\tvalidation_0-logloss:0.323394\tvalidation_1-logloss:0.33438\n",
      "[181]\tvalidation_0-logloss:0.323224\tvalidation_1-logloss:0.334309\n"
     ]
    }
   ],
   "source": [
    "#model = RandomForestClassifier(n_estimators=32, n_jobs=8)\n",
    "#model = ExtraTreesClassifier(n_estimators=32, n_jobs=8)\n",
    "#model = AdaBoostClassifier()\n",
    "#model = GradientBoostingClassifier(n_estimators=500, max_depth=4, learning_rate=0.48, subsample=0.7) # 0.46\n",
    "#model = KNeighborsClassifier(n_neighbors=25)\n",
    "#model = MultinomialNB() # 0.57\n",
    "#model = SVC()\n",
    "\n",
    "model = XGBClassifier(n_estimators=440, learning_rate=0.48, max_depth=5, subsample=0.7, gamma=0.5)\n",
    "model.fit(X_train, y_train, eval_set=[(X_train, y_train), (X_vald, y_vald)],\n",
    "          early_stopping_rounds=50, verbose=True, eval_metric='logloss')\n",
    "\n",
    "\n",
    "#model = VotingClassifier(estimators=[('xgb', xgb), ('knn', knn), ('rf', rf)],\n",
    "#                        voting='soft', weights=[4.5, 1.1, 1.2])\n",
    "\n",
    "#model.fit(X_train, y_train)"
   ]
  },
  {
   "cell_type": "code",
   "execution_count": 60,
   "metadata": {
    "collapsed": false,
    "deletable": true,
    "editable": true
   },
   "outputs": [
    {
     "name": "stdout",
     "output_type": "stream",
     "text": [
      "F1-score: 0.24750020434296927\n",
      "Acc: 0.8230662788760906\n",
      "Precision: 0.6509028374892519\n",
      "Recall: 0.15280067283431456\n",
      "LogLoss: 0.339765143443993\n"
     ]
    }
   ],
   "source": [
    "val_predictions = model.predict(X_vald)\n",
    "val_prob_predictions = model.predict_proba(X_vald)\n",
    "\n",
    "for metric_name, metric_func in zip(\n",
    "    ['F1-score', 'Acc', 'Precision', 'Recall', 'LogLoss'],\n",
    "    [f1_score, accuracy_score, precision_score, recall_score, log_loss]\n",
    "):\n",
    "    \n",
    "    val_predictions = val_predictions if metric_name not in ['LogLoss'] else val_prob_predictions\n",
    "    metric_score = metric_func(y_vald, val_predictions)\n",
    "    print('{0}: {1}'.format(metric_name, metric_score))"
   ]
  },
  {
   "cell_type": "code",
   "execution_count": null,
   "metadata": {
    "collapsed": false,
    "deletable": true,
    "editable": true
   },
   "outputs": [],
   "source": [
    "model.fit(X, y)"
   ]
  },
  {
   "cell_type": "code",
   "execution_count": null,
   "metadata": {
    "collapsed": false,
    "deletable": true,
    "editable": true
   },
   "outputs": [],
   "source": [
    "#del X, y, X_train, y_train, X_vald, y_vald\n",
    "#gc.collect()"
   ]
  },
  {
   "cell_type": "code",
   "execution_count": null,
   "metadata": {
    "collapsed": false,
    "deletable": true,
    "editable": true
   },
   "outputs": [],
   "source": [
    "X_test.head()"
   ]
  },
  {
   "cell_type": "code",
   "execution_count": null,
   "metadata": {
    "collapsed": true,
    "deletable": true,
    "editable": true
   },
   "outputs": [],
   "source": [
    "predictions = model.predict_proba(X_test)"
   ]
  },
  {
   "cell_type": "code",
   "execution_count": null,
   "metadata": {
    "collapsed": false,
    "deletable": true,
    "editable": true
   },
   "outputs": [],
   "source": [
    "predictions[:,1]"
   ]
  },
  {
   "cell_type": "markdown",
   "metadata": {
    "deletable": true,
    "editable": true
   },
   "source": [
    "## Generate submission"
   ]
  },
  {
   "cell_type": "code",
   "execution_count": null,
   "metadata": {
    "collapsed": false,
    "deletable": true,
    "editable": true
   },
   "outputs": [],
   "source": [
    "np.savetxt(\n",
    "    'submission.csv', np.c_[range(len(predictions)), predictions[:,1]],\n",
    "    delimiter=',', header='test_id,is_duplicate', comments='', fmt='%d,%f'\n",
    ")"
   ]
  },
  {
   "cell_type": "code",
   "execution_count": null,
   "metadata": {
    "collapsed": true,
    "deletable": true,
    "editable": true
   },
   "outputs": [],
   "source": [
    "with open('submission.csv', 'w', buffering=1) as submission_file:\n",
    "    submission_file.write('test_id,is_duplicate')\n",
    "    \n",
    "    for test_id, test_row in enumerate(X_test.iterrows()):\n",
    "        row_prediction = model.predict_proba(X_test[test_id:])\n",
    "        submission_file.write('%d,%f' % test_id, row_prediction[:,1])"
   ]
  }
 ],
 "metadata": {
  "anaconda-cloud": {},
  "kernelspec": {
   "display_name": "Python 3",
   "language": "python",
   "name": "python3"
  },
  "language_info": {
   "codemirror_mode": {
    "name": "ipython",
    "version": 3
   },
   "file_extension": ".py",
   "mimetype": "text/x-python",
   "name": "python",
   "nbconvert_exporter": "python",
   "pygments_lexer": "ipython3",
   "version": "3.6.0"
  }
 },
 "nbformat": 4,
 "nbformat_minor": 2
}

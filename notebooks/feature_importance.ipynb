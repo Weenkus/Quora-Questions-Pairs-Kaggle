{
 "cells": [
  {
   "cell_type": "markdown",
   "metadata": {},
   "source": [
    "## Libraries"
   ]
  },
  {
   "cell_type": "code",
   "execution_count": 2,
   "metadata": {
    "collapsed": true
   },
   "outputs": [],
   "source": [
    "import pandas as pd\n",
    "import numpy as np"
   ]
  },
  {
   "cell_type": "markdown",
   "metadata": {},
   "source": [
    "## Load the data"
   ]
  },
  {
   "cell_type": "code",
   "execution_count": 3,
   "metadata": {
    "collapsed": true
   },
   "outputs": [],
   "source": [
    "train = pd.read_pickle('../features/train.pkl')"
   ]
  },
  {
   "cell_type": "code",
   "execution_count": 4,
   "metadata": {
    "collapsed": true
   },
   "outputs": [],
   "source": [
    "test = pd.read_pickle('../features/test.pkl')"
   ]
  },
  {
   "cell_type": "markdown",
   "metadata": {},
   "source": [
    "## Feature selection"
   ]
  },
  {
   "cell_type": "code",
   "execution_count": 11,
   "metadata": {
    "collapsed": true
   },
   "outputs": [],
   "source": [
    "features = ['cosin_sim', 'word_share', 'q1_char_num', 'q1_word_num', 'q2_char_num', 'q2_word_num',\n",
    "            'start_with_same_world', 'rfidf_share', 'char_difference', 'word_difference',\n",
    "           'seq_simhash_distance', 'shingle_simhash_distance', 'avg_word_len_q1', 'avg_word_len_q2',\n",
    "           'avg_word_difference', 'unigrams_common_count', 'bigrams_common_count', 'unigrams_common_ratio',\n",
    "           'bigrams_common_ratio', 'word2vec_q1_mean', 'word2vec_q2_mean']\n",
    "\n",
    "target = 'is_duplicate'\n",
    "\n",
    "X, y = train[features], train[target]"
   ]
  },
  {
   "cell_type": "markdown",
   "metadata": {},
   "source": [
    "## Oversampling"
   ]
  },
  {
   "cell_type": "code",
   "execution_count": 34,
   "metadata": {
    "collapsed": false
   },
   "outputs": [
    {
     "name": "stdout",
     "output_type": "stream",
     "text": [
      "0.19124366100096607\n"
     ]
    }
   ],
   "source": [
    "pos_train = X[y == 1]\n",
    "neg_train = X[y == 0]\n",
    "\n",
    "# Now we oversample the negative class\n",
    "# There is likely a much more elegant way to do this...\n",
    "p = 0.165\n",
    "scale = ((len(pos_train) / (len(pos_train) + len(neg_train))) / p) - 1\n",
    "while scale > 1:\n",
    "    neg_train = pd.concat([neg_train, neg_train])\n",
    "    scale -=1\n",
    "neg_train = pd.concat([neg_train, neg_train[:int(scale * len(neg_train))]])\n",
    "print(len(pos_train) / (len(pos_train) + len(neg_train)))\n",
    "\n",
    "X = pd.concat([pos_train, neg_train])\n",
    "y = (np.zeros(len(pos_train)) + 1).tolist() + np.zeros(len(neg_train)).tolist()\n",
    "\n",
    "del pos_train, neg_train"
   ]
  },
  {
   "cell_type": "markdown",
   "metadata": {},
   "source": [
    "## Feature importance"
   ]
  },
  {
   "cell_type": "code",
   "execution_count": 36,
   "metadata": {
    "collapsed": true
   },
   "outputs": [],
   "source": [
    "from xgboost import XGBClassifier\n",
    "from matplotlib import pyplot as plt"
   ]
  },
  {
   "cell_type": "code",
   "execution_count": 37,
   "metadata": {
    "collapsed": false
   },
   "outputs": [
    {
     "data": {
      "text/plain": [
       "XGBClassifier(base_score=0.5, colsample_bylevel=1, colsample_bytree=0.7,\n",
       "       gamma=1.5, learning_rate=0.1, max_delta_step=0, max_depth=6,\n",
       "       min_child_weight=1, missing=None, n_estimators=700, nthread=-1,\n",
       "       objective='binary:logistic', reg_alpha=0, reg_lambda=1,\n",
       "       scale_pos_weight=1, seed=42, silent=True, subsample=0.5)"
      ]
     },
     "execution_count": 37,
     "metadata": {},
     "output_type": "execute_result"
    }
   ],
   "source": [
    "model = XGBClassifier(n_estimators=700, learning_rate=0.1, max_depth=6, subsample=0.5,\n",
    "                      gamma=1.5, seed=42, colsample_bytree=0.7)\n",
    "model.fit(X, y)"
   ]
  },
  {
   "cell_type": "code",
   "execution_count": 38,
   "metadata": {
    "collapsed": false
   },
   "outputs": [
    {
     "data": {
      "image/png": "[encoded data removed]",
      "text/plain": [
       "<matplotlib.figure.Figure at 0x7fea1f217fd0>"
      ]
     },
     "metadata": {},
     "output_type": "display_data"
    }
   ],
   "source": [
    "feature_importance = model.feature_importances_\n",
    "\n",
    "plt.figure(figsize=(16, 6))\n",
    "plt.yscale('log', nonposy='clip')\n",
    "\n",
    "plt.bar(range(len(feature_importance)), feature_importance, align='center')\n",
    "plt.xticks(range(len(feature_importance)), features, rotation='vertical')\n",
    "plt.title('Feature importance')\n",
    "plt.ylabel('Importance')\n",
    "plt.xlabel('Features')\n",
    "plt.show()"
   ]
  },
  {
   "cell_type": "code",
   "execution_count": 39,
   "metadata": {
    "collapsed": false
   },
   "outputs": [
    {
     "data": {
      "text/html": [
       "<div>\n",
       "<table border=\"1\" class=\"dataframe\">\n",
       "  <thead>\n",
       "    <tr style=\"text-align: right;\">\n",
       "      <th></th>\n",
       "      <th>weights</th>\n",
       "    </tr>\n",
       "  </thead>\n",
       "  <tbody>\n",
       "    <tr>\n",
       "      <th>cosin_sim</th>\n",
       "      <td>0.069787</td>\n",
       "    </tr>\n",
       "    <tr>\n",
       "      <th>word_share</th>\n",
       "      <td>0.039899</td>\n",
       "    </tr>\n",
       "    <tr>\n",
       "      <th>q1_char_num</th>\n",
       "      <td>0.045110</td>\n",
       "    </tr>\n",
       "    <tr>\n",
       "      <th>q1_word_num</th>\n",
       "      <td>0.021516</td>\n",
       "    </tr>\n",
       "    <tr>\n",
       "      <th>q2_char_num</th>\n",
       "      <td>0.048711</td>\n",
       "    </tr>\n",
       "    <tr>\n",
       "      <th>q2_word_num</th>\n",
       "      <td>0.023038</td>\n",
       "    </tr>\n",
       "    <tr>\n",
       "      <th>start_with_same_world</th>\n",
       "      <td>0.010363</td>\n",
       "    </tr>\n",
       "    <tr>\n",
       "      <th>rfidf_share</th>\n",
       "      <td>0.075964</td>\n",
       "    </tr>\n",
       "    <tr>\n",
       "      <th>char_difference</th>\n",
       "      <td>0.038641</td>\n",
       "    </tr>\n",
       "    <tr>\n",
       "      <th>word_difference</th>\n",
       "      <td>0.016715</td>\n",
       "    </tr>\n",
       "    <tr>\n",
       "      <th>seq_simhash_distance</th>\n",
       "      <td>0.033928</td>\n",
       "    </tr>\n",
       "    <tr>\n",
       "      <th>shingle_simhash_distance</th>\n",
       "      <td>0.032288</td>\n",
       "    </tr>\n",
       "    <tr>\n",
       "      <th>avg_word_len_q1</th>\n",
       "      <td>0.061327</td>\n",
       "    </tr>\n",
       "    <tr>\n",
       "      <th>avg_word_len_q2</th>\n",
       "      <td>0.055736</td>\n",
       "    </tr>\n",
       "    <tr>\n",
       "      <th>avg_word_difference</th>\n",
       "      <td>0.057170</td>\n",
       "    </tr>\n",
       "    <tr>\n",
       "      <th>unigrams_common_count</th>\n",
       "      <td>0.031176</td>\n",
       "    </tr>\n",
       "    <tr>\n",
       "      <th>bigrams_common_count</th>\n",
       "      <td>0.034659</td>\n",
       "    </tr>\n",
       "    <tr>\n",
       "      <th>unigrams_common_ratio</th>\n",
       "      <td>0.047510</td>\n",
       "    </tr>\n",
       "    <tr>\n",
       "      <th>bigrams_common_ratio</th>\n",
       "      <td>0.067562</td>\n",
       "    </tr>\n",
       "    <tr>\n",
       "      <th>word2vec_q1_mean</th>\n",
       "      <td>0.095987</td>\n",
       "    </tr>\n",
       "    <tr>\n",
       "      <th>word2vec_q2_mean</th>\n",
       "      <td>0.092913</td>\n",
       "    </tr>\n",
       "  </tbody>\n",
       "</table>\n",
       "</div>"
      ],
      "text/plain": [
       "                           weights\n",
       "cosin_sim                 0.069787\n",
       "word_share                0.039899\n",
       "q1_char_num               0.045110\n",
       "q1_word_num               0.021516\n",
       "q2_char_num               0.048711\n",
       "q2_word_num               0.023038\n",
       "start_with_same_world     0.010363\n",
       "rfidf_share               0.075964\n",
       "char_difference           0.038641\n",
       "word_difference           0.016715\n",
       "seq_simhash_distance      0.033928\n",
       "shingle_simhash_distance  0.032288\n",
       "avg_word_len_q1           0.061327\n",
       "avg_word_len_q2           0.055736\n",
       "avg_word_difference       0.057170\n",
       "unigrams_common_count     0.031176\n",
       "bigrams_common_count      0.034659\n",
       "unigrams_common_ratio     0.047510\n",
       "bigrams_common_ratio      0.067562\n",
       "word2vec_q1_mean          0.095987\n",
       "word2vec_q2_mean          0.092913"
      ]
     },
     "execution_count": 39,
     "metadata": {},
     "output_type": "execute_result"
    }
   ],
   "source": [
    "pd.DataFrame(model.feature_importances_, columns=['weights'], index=features)"
   ]
  },
  {
   "cell_type": "code",
   "execution_count": null,
   "metadata": {
    "collapsed": true
   },
   "outputs": [],
   "source": []
  }
 ],
 "metadata": {
  "kernelspec": {
   "display_name": "Python 3",
   "language": "python",
   "name": "python3"
  },
  "language_info": {
   "codemirror_mode": {
    "name": "ipython",
    "version": 3
   },
   "file_extension": ".py",
   "mimetype": "text/x-python",
   "name": "python",
   "nbconvert_exporter": "python",
   "pygments_lexer": "ipython3",
   "version": "3.5.2"
  }
 },
 "nbformat": 4,
 "nbformat_minor": 2
}

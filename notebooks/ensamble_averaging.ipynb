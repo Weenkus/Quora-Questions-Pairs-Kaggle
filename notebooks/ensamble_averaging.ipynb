{
 "cells": [
  {
   "cell_type": "markdown",
   "metadata": {},
   "source": [
    "## Libraries"
   ]
  },
  {
   "cell_type": "code",
   "execution_count": 2,
   "metadata": {
    "collapsed": true
   },
   "outputs": [],
   "source": [
    "import pandas as pd\n",
    "import numpy as np"
   ]
  },
  {
   "cell_type": "markdown",
   "metadata": {},
   "source": [
    "## Load the data"
   ]
  },
  {
   "cell_type": "code",
   "execution_count": 3,
   "metadata": {
    "collapsed": true
   },
   "outputs": [],
   "source": [
    "sub1 = pd.read_csv('../submissions/submission_0_3107.csv')\n",
    "sub2 = pd.read_csv('../submissions/submission_0_3111.csv')\n",
    "sub3 = pd.read_csv('../submissions/submission_0_3122.csv')\n",
    "sub4 = pd.read_csv('../submissions/submission_0_3131.csv')\n",
    "sub5 = pd.read_csv('../submissions/submission_0_3148.csv')"
   ]
  },
  {
   "cell_type": "code",
   "execution_count": 4,
   "metadata": {
    "collapsed": true
   },
   "outputs": [],
   "source": [
    "subs = [sub1, sub2, sub3, sub4, sub5]"
   ]
  },
  {
   "cell_type": "markdown",
   "metadata": {},
   "source": [
    "## Average the data"
   ]
  },
  {
   "cell_type": "code",
   "execution_count": 15,
   "metadata": {},
   "outputs": [],
   "source": [
    "predictions = []\n",
    "for s1, s2, s3, s4, s5 in zip(sub1.values, sub2.values, sub3.values, sub4.values, sub5.values):\n",
    "    mean_pred = np.mean([s1[1], s2[1], s3[1], s4[1], s5[1]])\n",
    "    predictions.append(mean_pred)\n",
    "    \n",
    "predictions = np.array(predictions)"
   ]
  },
  {
   "cell_type": "markdown",
   "metadata": {},
   "source": [
    "## Generate the submission"
   ]
  },
  {
   "cell_type": "code",
   "execution_count": 17,
   "metadata": {},
   "outputs": [],
   "source": [
    "np.savetxt(\n",
    "    '../submissions/submission_average.csv', np.c_[range(len(predictions)), predictions],\n",
    "    delimiter=',', header='test_id,is_duplicate', comments='', fmt='%d,%.5f'\n",
    ")"
   ]
  },
  {
   "cell_type": "code",
   "execution_count": null,
   "metadata": {
    "collapsed": true
   },
   "outputs": [],
   "source": []
  }
 ],
 "metadata": {
  "kernelspec": {
   "display_name": "Python 3",
   "language": "python",
   "name": "python3"
  },
  "language_info": {
   "codemirror_mode": {
    "name": "ipython",
    "version": 3
   },
   "file_extension": ".py",
   "mimetype": "text/x-python",
   "name": "python",
   "nbconvert_exporter": "python",
   "pygments_lexer": "ipython3",
   "version": "3.5.2"
  }
 },
 "nbformat": 4,
 "nbformat_minor": 2
}

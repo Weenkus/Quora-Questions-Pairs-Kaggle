{
 "cells": [
  {
   "cell_type": "markdown",
   "metadata": {},
   "source": [
    "## Libraries"
   ]
  },
  {
   "cell_type": "code",
   "execution_count": 1,
   "metadata": {
    "collapsed": true
   },
   "outputs": [],
   "source": [
    "import pandas as pd\n",
    "import numpy as np"
   ]
  },
  {
   "cell_type": "markdown",
   "metadata": {},
   "source": [
    "## Load the data"
   ]
  },
  {
   "cell_type": "code",
   "execution_count": 17,
   "metadata": {
    "collapsed": true
   },
   "outputs": [],
   "source": [
    "#sub1 = pd.read_csv('../submissions/xgb9_nO_yC.csv')\n",
    "sub2 = pd.read_csv('../submissions/xgb7_nO_yC_0_174.csv')\n",
    "sub3 = pd.read_csv('../submissions/lgb9_nO_yC')\n",
    "#sub4 = pd.read_csv('../submissions/lgb10_nO_nC')"
   ]
  },
  {
   "cell_type": "code",
   "execution_count": 18,
   "metadata": {
    "collapsed": true
   },
   "outputs": [],
   "source": [
    "#subs = [sub1, sub2, sub3, sub4]\n",
    "subs = [sub2, sub3]"
   ]
  },
  {
   "cell_type": "code",
   "execution_count": 5,
   "metadata": {
    "collapsed": true
   },
   "outputs": [],
   "source": [
    "subs = [\n",
    "    pd.read_csv('../submissions/xgb11_nO_yC.csv'),\n",
    "    pd.read_csv('../submissions/submission_average_2.csv'),\n",
    "    pd.read_csv('../submissions/xgb8_nO_yC_0_18.csv'),\n",
    "    pd.read_csv('../submissions/xgb7_nO_yC_0_174.csv'),\n",
    "]"
   ]
  },
  {
   "cell_type": "markdown",
   "metadata": {},
   "source": [
    "## Average the data"
   ]
  },
  {
   "cell_type": "code",
   "execution_count": 7,
   "metadata": {},
   "outputs": [],
   "source": [
    "predictions = []\n",
    "#for s1, s2, s3, s4 in zip(sub1.values, sub2.values, sub3.values, sub4.values):\n",
    "for s1, s2, s3, s4 in zip(\n",
    "    subs[0].values, subs[1].values, subs[2].values, subs[3].values\n",
    "):\n",
    "    #mean_pred = np.mean([s1[1], s3[1]])\n",
    "    mean_pred = np.mean([\n",
    "        s1[1], s2[1], s3[1], s4[1]\n",
    "    ])\n",
    "    predictions.append(mean_pred)\n",
    "    \n",
    "predictions = np.array(predictions)"
   ]
  },
  {
   "cell_type": "markdown",
   "metadata": {},
   "source": [
    "## Generate the submission"
   ]
  },
  {
   "cell_type": "code",
   "execution_count": 8,
   "metadata": {
    "collapsed": true
   },
   "outputs": [],
   "source": [
    "np.savetxt(\n",
    "    '../submissions/final_average_yC_4.csv', np.c_[range(len(predictions)), predictions],\n",
    "    delimiter=',', header='test_id,is_duplicate', comments='', fmt='%d,%.5f'\n",
    ")"
   ]
  },
  {
   "cell_type": "code",
   "execution_count": null,
   "metadata": {
    "collapsed": true
   },
   "outputs": [],
   "source": []
  }
 ],
 "metadata": {
  "anaconda-cloud": {},
  "kernelspec": {
   "display_name": "Python [default]",
   "language": "python",
   "name": "python3"
  },
  "language_info": {
   "codemirror_mode": {
    "name": "ipython",
    "version": 3
   },
   "file_extension": ".py",
   "mimetype": "text/x-python",
   "name": "python",
   "nbconvert_exporter": "python",
   "pygments_lexer": "ipython3",
   "version": "3.5.3"
  }
 },
 "nbformat": 4,
 "nbformat_minor": 2
}

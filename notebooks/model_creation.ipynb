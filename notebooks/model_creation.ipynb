{
 "cells": [
  {
   "cell_type": "markdown",
   "metadata": {},
   "source": [
    "## Libraries"
   ]
  },
  {
   "cell_type": "code",
   "execution_count": 6,
   "metadata": {
    "collapsed": true
   },
   "outputs": [],
   "source": [
    "import pandas as pd\n",
    "import numpy as np"
   ]
  },
  {
   "cell_type": "markdown",
   "metadata": {},
   "source": [
    "## Load the data with features"
   ]
  },
  {
   "cell_type": "code",
   "execution_count": 2,
   "metadata": {
    "collapsed": true
   },
   "outputs": [],
   "source": [
    "train = pd.read_pickle('../features/train.pkl')\n",
    "test = pd.read_pickle('../features/test.pkl')"
   ]
  },
  {
   "cell_type": "markdown",
   "metadata": {},
   "source": [
    "## Feature selection"
   ]
  },
  {
   "cell_type": "code",
   "execution_count": 3,
   "metadata": {
    "collapsed": true
   },
   "outputs": [],
   "source": [
    "try:\n",
    "    from sklearn.model_selection import train_test_split\n",
    "except ImportError:\n",
    "    from sklearn.cross_validation import train_test_split"
   ]
  },
  {
   "cell_type": "code",
   "execution_count": 4,
   "metadata": {
    "collapsed": true
   },
   "outputs": [],
   "source": [
    "features = ['cosin_sim', 'word_share', 'q1_char_num', 'q1_word_num', 'q2_char_num', 'q2_word_num',\n",
    "            'start_with_same_world', 'rfidf_share', 'char_difference', 'word_difference',\n",
    "           'seq_simhash_distance', 'shingle_simhash_distance', 'avg_word_len_q1', 'avg_word_len_q2',\n",
    "           'avg_word_difference', 'unigrams_common_count', 'bigrams_common_count', 'unigrams_common_ratio',\n",
    "           'bigrams_common_ratio', 'word2vec_q1_mean', 'word2vec_q2_mean']\n",
    "\n",
    "target = 'is_duplicate'\n",
    "\n",
    "X, y = train[features], train[target]"
   ]
  },
  {
   "cell_type": "markdown",
   "metadata": {},
   "source": [
    "## Oversampling"
   ]
  },
  {
   "cell_type": "code",
   "execution_count": 7,
   "metadata": {
    "collapsed": false
   },
   "outputs": [
    {
     "name": "stdout",
     "output_type": "stream",
     "text": [
      "0.1694470207734739\n"
     ]
    },
    {
     "name": "stderr",
     "output_type": "stream",
     "text": [
      "/home/weenkus/anaconda3/lib/python3.5/site-packages/pandas/core/frame.py:1997: UserWarning: Boolean Series key will be reindexed to match DataFrame index.\n",
      "  \"DataFrame index.\", UserWarning)\n"
     ]
    }
   ],
   "source": [
    "pos_train = X[y == 1]\n",
    "neg_train = X[y == 0]\n",
    "\n",
    "# Now we oversample the negative class\n",
    "# There is likely a much more elegant way to do this...\n",
    "p = 0.165\n",
    "scale = ((len(pos_train) / (len(pos_train) + len(neg_train))) / p) - 1\n",
    "while scale > 1:\n",
    "    neg_train = pd.concat([neg_train, neg_train])\n",
    "    scale -=1\n",
    "neg_train = pd.concat([neg_train, neg_train[:int(scale * len(neg_train))]])\n",
    "print(len(pos_train) / (len(pos_train) + len(neg_train)))\n",
    "\n",
    "X = pd.concat([pos_train, neg_train])\n",
    "y = (np.zeros(len(pos_train)) + 1).tolist() + np.zeros(len(neg_train)).tolist()\n",
    "\n",
    "del pos_train, neg_train"
   ]
  },
  {
   "cell_type": "markdown",
   "metadata": {},
   "source": [
    "## Cross validation"
   ]
  },
  {
   "cell_type": "code",
   "execution_count": 8,
   "metadata": {
    "collapsed": false
   },
   "outputs": [],
   "source": [
    "X_train, X_vald, y_train, y_vald = train_test_split(X, y, test_size=0.2, random_state=42)\n",
    "X_test = test[features]"
   ]
  },
  {
   "cell_type": "markdown",
   "metadata": {},
   "source": [
    "## Transformations"
   ]
  },
  {
   "cell_type": "code",
   "execution_count": 9,
   "metadata": {
    "collapsed": true
   },
   "outputs": [],
   "source": [
    "from sklearn.preprocessing import StandardScaler"
   ]
  },
  {
   "cell_type": "code",
   "execution_count": null,
   "metadata": {
    "collapsed": true
   },
   "outputs": [],
   "source": [
    "# Model works fine without scaling\n",
    "\n",
    "scaler = StandardScaler().fit(X_train)\n",
    "\n",
    "X_train_scaled = scaler.transform(X_train)\n",
    "X_test_scaled = scaler.transform(X_test)\n",
    "X_vald_scaled = scaler.transform(X_vald)"
   ]
  },
  {
   "cell_type": "markdown",
   "metadata": {},
   "source": [
    "## Model selection"
   ]
  },
  {
   "cell_type": "code",
   "execution_count": 10,
   "metadata": {
    "collapsed": true
   },
   "outputs": [],
   "source": [
    "from sklearn.metrics import f1_score, accuracy_score, precision_score, recall_score, log_loss\n",
    "\n",
    "from xgboost import XGBClassifier\n",
    "#import lightgbm\n",
    "\n",
    "from sklearn.naive_bayes import GaussianNB\n",
    "from sklearn.naive_bayes import MultinomialNB\n",
    "from sklearn.naive_bayes import BernoulliNB\n",
    "\n",
    "from sklearn.ensemble import RandomForestClassifier\n",
    "from sklearn.ensemble import GradientBoostingClassifier\n",
    "from sklearn.ensemble import ExtraTreesClassifier\n",
    "from sklearn.ensemble import VotingClassifier\n",
    "from sklearn.ensemble import AdaBoostClassifier\n",
    "\n",
    "from sklearn.svm import SVC\n",
    "from sklearn.neighbors import KNeighborsClassifier"
   ]
  },
  {
   "cell_type": "code",
   "execution_count": null,
   "metadata": {
    "collapsed": false
   },
   "outputs": [
    {
     "name": "stderr",
     "output_type": "stream",
     "text": [
      "Will train until validation_1 error hasn't decreased in 50 rounds.\n",
      "[0]\tvalidation_0-logloss:0.641337\tvalidation_1-logloss:0.641384\n",
      "[1]\tvalidation_0-logloss:0.602217\tvalidation_1-logloss:0.602174\n",
      "[2]\tvalidation_0-logloss:0.566184\tvalidation_1-logloss:0.566266\n",
      "[3]\tvalidation_0-logloss:0.535856\tvalidation_1-logloss:0.536030\n",
      "[4]\tvalidation_0-logloss:0.510439\tvalidation_1-logloss:0.510547\n",
      "[5]\tvalidation_0-logloss:0.488447\tvalidation_1-logloss:0.488754\n",
      "[6]\tvalidation_0-logloss:0.469658\tvalidation_1-logloss:0.469912\n",
      "[7]\tvalidation_0-logloss:0.453445\tvalidation_1-logloss:0.453685\n",
      "[8]\tvalidation_0-logloss:0.439065\tvalidation_1-logloss:0.439447\n",
      "[9]\tvalidation_0-logloss:0.427278\tvalidation_1-logloss:0.427665\n",
      "[10]\tvalidation_0-logloss:0.416377\tvalidation_1-logloss:0.416744\n",
      "[11]\tvalidation_0-logloss:0.406581\tvalidation_1-logloss:0.407052\n",
      "[12]\tvalidation_0-logloss:0.398135\tvalidation_1-logloss:0.398607\n",
      "[13]\tvalidation_0-logloss:0.390881\tvalidation_1-logloss:0.391476\n",
      "[14]\tvalidation_0-logloss:0.385124\tvalidation_1-logloss:0.385692\n",
      "[15]\tvalidation_0-logloss:0.379505\tvalidation_1-logloss:0.380067\n",
      "[16]\tvalidation_0-logloss:0.373933\tvalidation_1-logloss:0.374516\n",
      "[17]\tvalidation_0-logloss:0.369028\tvalidation_1-logloss:0.369618\n",
      "[18]\tvalidation_0-logloss:0.365067\tvalidation_1-logloss:0.365684\n",
      "[19]\tvalidation_0-logloss:0.361493\tvalidation_1-logloss:0.362233\n",
      "[20]\tvalidation_0-logloss:0.357902\tvalidation_1-logloss:0.358576\n",
      "[21]\tvalidation_0-logloss:0.354676\tvalidation_1-logloss:0.355467\n",
      "[22]\tvalidation_0-logloss:0.352085\tvalidation_1-logloss:0.352820\n",
      "[23]\tvalidation_0-logloss:0.349734\tvalidation_1-logloss:0.350558\n",
      "[24]\tvalidation_0-logloss:0.347714\tvalidation_1-logloss:0.348555\n",
      "[25]\tvalidation_0-logloss:0.345445\tvalidation_1-logloss:0.346334\n",
      "[26]\tvalidation_0-logloss:0.343804\tvalidation_1-logloss:0.344762\n",
      "[27]\tvalidation_0-logloss:0.342144\tvalidation_1-logloss:0.343032\n",
      "[28]\tvalidation_0-logloss:0.340685\tvalidation_1-logloss:0.341656\n",
      "[29]\tvalidation_0-logloss:0.339233\tvalidation_1-logloss:0.340180\n",
      "[30]\tvalidation_0-logloss:0.337786\tvalidation_1-logloss:0.338829\n",
      "[31]\tvalidation_0-logloss:0.336613\tvalidation_1-logloss:0.337657\n",
      "[32]\tvalidation_0-logloss:0.335730\tvalidation_1-logloss:0.336819\n",
      "[33]\tvalidation_0-logloss:0.334687\tvalidation_1-logloss:0.335816\n",
      "[34]\tvalidation_0-logloss:0.334006\tvalidation_1-logloss:0.335095\n",
      "[35]\tvalidation_0-logloss:0.333138\tvalidation_1-logloss:0.334285\n",
      "[36]\tvalidation_0-logloss:0.332321\tvalidation_1-logloss:0.333484\n",
      "[37]\tvalidation_0-logloss:0.331684\tvalidation_1-logloss:0.332840\n",
      "[38]\tvalidation_0-logloss:0.330934\tvalidation_1-logloss:0.332154\n",
      "[39]\tvalidation_0-logloss:0.330404\tvalidation_1-logloss:0.331579\n",
      "[40]\tvalidation_0-logloss:0.329758\tvalidation_1-logloss:0.331025\n",
      "[41]\tvalidation_0-logloss:0.329335\tvalidation_1-logloss:0.330548\n",
      "[42]\tvalidation_0-logloss:0.328920\tvalidation_1-logloss:0.330173\n",
      "[43]\tvalidation_0-logloss:0.328482\tvalidation_1-logloss:0.329775\n",
      "[44]\tvalidation_0-logloss:0.328264\tvalidation_1-logloss:0.329513\n",
      "[45]\tvalidation_0-logloss:0.327949\tvalidation_1-logloss:0.329175\n",
      "[46]\tvalidation_0-logloss:0.327599\tvalidation_1-logloss:0.328917\n",
      "[47]\tvalidation_0-logloss:0.327376\tvalidation_1-logloss:0.328716\n",
      "[48]\tvalidation_0-logloss:0.327071\tvalidation_1-logloss:0.328383\n",
      "[49]\tvalidation_0-logloss:0.326843\tvalidation_1-logloss:0.328099\n",
      "[50]\tvalidation_0-logloss:0.326585\tvalidation_1-logloss:0.327850\n",
      "[51]\tvalidation_0-logloss:0.326259\tvalidation_1-logloss:0.327624\n",
      "[52]\tvalidation_0-logloss:0.326065\tvalidation_1-logloss:0.327433\n",
      "[53]\tvalidation_0-logloss:0.325822\tvalidation_1-logloss:0.327223\n",
      "[54]\tvalidation_0-logloss:0.325609\tvalidation_1-logloss:0.326999\n",
      "[55]\tvalidation_0-logloss:0.325426\tvalidation_1-logloss:0.326804\n",
      "[56]\tvalidation_0-logloss:0.325228\tvalidation_1-logloss:0.326607\n",
      "[57]\tvalidation_0-logloss:0.325090\tvalidation_1-logloss:0.326464\n",
      "[58]\tvalidation_0-logloss:0.324901\tvalidation_1-logloss:0.326302\n",
      "[59]\tvalidation_0-logloss:0.324709\tvalidation_1-logloss:0.326143\n",
      "[60]\tvalidation_0-logloss:0.324533\tvalidation_1-logloss:0.325979\n",
      "[61]\tvalidation_0-logloss:0.324203\tvalidation_1-logloss:0.325662\n",
      "[62]\tvalidation_0-logloss:0.323974\tvalidation_1-logloss:0.325431\n",
      "[63]\tvalidation_0-logloss:0.323662\tvalidation_1-logloss:0.325121\n",
      "[64]\tvalidation_0-logloss:0.323474\tvalidation_1-logloss:0.324926\n",
      "[65]\tvalidation_0-logloss:0.323244\tvalidation_1-logloss:0.324770\n",
      "[66]\tvalidation_0-logloss:0.323031\tvalidation_1-logloss:0.324597\n",
      "[67]\tvalidation_0-logloss:0.322870\tvalidation_1-logloss:0.324439\n",
      "[68]\tvalidation_0-logloss:0.322717\tvalidation_1-logloss:0.324282\n",
      "[69]\tvalidation_0-logloss:0.322560\tvalidation_1-logloss:0.324137\n",
      "[70]\tvalidation_0-logloss:0.322425\tvalidation_1-logloss:0.324021\n",
      "[71]\tvalidation_0-logloss:0.322148\tvalidation_1-logloss:0.323748\n",
      "[72]\tvalidation_0-logloss:0.321999\tvalidation_1-logloss:0.323603\n",
      "[73]\tvalidation_0-logloss:0.321924\tvalidation_1-logloss:0.323548\n",
      "[74]\tvalidation_0-logloss:0.321639\tvalidation_1-logloss:0.323280\n",
      "[75]\tvalidation_0-logloss:0.321449\tvalidation_1-logloss:0.323113\n",
      "[76]\tvalidation_0-logloss:0.321285\tvalidation_1-logloss:0.322969\n",
      "[77]\tvalidation_0-logloss:0.321130\tvalidation_1-logloss:0.322845\n",
      "[78]\tvalidation_0-logloss:0.321034\tvalidation_1-logloss:0.322777\n",
      "[79]\tvalidation_0-logloss:0.320887\tvalidation_1-logloss:0.322645\n",
      "[80]\tvalidation_0-logloss:0.320825\tvalidation_1-logloss:0.322588\n",
      "[81]\tvalidation_0-logloss:0.320601\tvalidation_1-logloss:0.322385\n",
      "[82]\tvalidation_0-logloss:0.320416\tvalidation_1-logloss:0.322194\n",
      "[83]\tvalidation_0-logloss:0.320183\tvalidation_1-logloss:0.321976\n",
      "[84]\tvalidation_0-logloss:0.320074\tvalidation_1-logloss:0.321879\n",
      "[85]\tvalidation_0-logloss:0.319948\tvalidation_1-logloss:0.321762\n",
      "[86]\tvalidation_0-logloss:0.319838\tvalidation_1-logloss:0.321664\n",
      "[87]\tvalidation_0-logloss:0.319648\tvalidation_1-logloss:0.321477\n",
      "[88]\tvalidation_0-logloss:0.319600\tvalidation_1-logloss:0.321452\n",
      "[89]\tvalidation_0-logloss:0.319394\tvalidation_1-logloss:0.321262\n",
      "[90]\tvalidation_0-logloss:0.319254\tvalidation_1-logloss:0.321137\n",
      "[91]\tvalidation_0-logloss:0.319081\tvalidation_1-logloss:0.320976\n",
      "[92]\tvalidation_0-logloss:0.318955\tvalidation_1-logloss:0.320861\n",
      "[93]\tvalidation_0-logloss:0.318773\tvalidation_1-logloss:0.320691\n",
      "[94]\tvalidation_0-logloss:0.318680\tvalidation_1-logloss:0.320609\n",
      "[95]\tvalidation_0-logloss:0.318574\tvalidation_1-logloss:0.320517\n",
      "[96]\tvalidation_0-logloss:0.318471\tvalidation_1-logloss:0.320442\n",
      "[97]\tvalidation_0-logloss:0.318325\tvalidation_1-logloss:0.320329\n",
      "[98]\tvalidation_0-logloss:0.318213\tvalidation_1-logloss:0.320232\n",
      "[99]\tvalidation_0-logloss:0.318151\tvalidation_1-logloss:0.320177\n",
      "[100]\tvalidation_0-logloss:0.318086\tvalidation_1-logloss:0.320119\n",
      "[101]\tvalidation_0-logloss:0.317979\tvalidation_1-logloss:0.320024\n",
      "[102]\tvalidation_0-logloss:0.317849\tvalidation_1-logloss:0.319895\n",
      "[103]\tvalidation_0-logloss:0.317712\tvalidation_1-logloss:0.319778\n",
      "[104]\tvalidation_0-logloss:0.317652\tvalidation_1-logloss:0.319738\n",
      "[105]\tvalidation_0-logloss:0.317546\tvalidation_1-logloss:0.319649\n",
      "[106]\tvalidation_0-logloss:0.317447\tvalidation_1-logloss:0.319564\n",
      "[107]\tvalidation_0-logloss:0.317377\tvalidation_1-logloss:0.319495\n",
      "[108]\tvalidation_0-logloss:0.317351\tvalidation_1-logloss:0.319482\n",
      "[109]\tvalidation_0-logloss:0.317259\tvalidation_1-logloss:0.319394\n",
      "[110]\tvalidation_0-logloss:0.317220\tvalidation_1-logloss:0.319367\n",
      "[111]\tvalidation_0-logloss:0.317091\tvalidation_1-logloss:0.319252\n",
      "[112]\tvalidation_0-logloss:0.317004\tvalidation_1-logloss:0.319174\n",
      "[113]\tvalidation_0-logloss:0.316908\tvalidation_1-logloss:0.319088\n",
      "[114]\tvalidation_0-logloss:0.316848\tvalidation_1-logloss:0.319038\n",
      "[115]\tvalidation_0-logloss:0.316756\tvalidation_1-logloss:0.318945\n",
      "[116]\tvalidation_0-logloss:0.316697\tvalidation_1-logloss:0.318893\n",
      "[117]\tvalidation_0-logloss:0.316584\tvalidation_1-logloss:0.318795\n",
      "[118]\tvalidation_0-logloss:0.316522\tvalidation_1-logloss:0.318738\n",
      "[119]\tvalidation_0-logloss:0.316340\tvalidation_1-logloss:0.318577\n",
      "[120]\tvalidation_0-logloss:0.316303\tvalidation_1-logloss:0.318561\n",
      "[121]\tvalidation_0-logloss:0.316299\tvalidation_1-logloss:0.318584\n",
      "[122]\tvalidation_0-logloss:0.316140\tvalidation_1-logloss:0.318435\n",
      "[123]\tvalidation_0-logloss:0.316025\tvalidation_1-logloss:0.318348\n",
      "[124]\tvalidation_0-logloss:0.315945\tvalidation_1-logloss:0.318288\n",
      "[125]\tvalidation_0-logloss:0.315856\tvalidation_1-logloss:0.318202\n",
      "[126]\tvalidation_0-logloss:0.315739\tvalidation_1-logloss:0.318102\n",
      "[127]\tvalidation_0-logloss:0.315664\tvalidation_1-logloss:0.318038\n",
      "[128]\tvalidation_0-logloss:0.315541\tvalidation_1-logloss:0.317935\n",
      "[129]\tvalidation_0-logloss:0.315460\tvalidation_1-logloss:0.317856\n",
      "[130]\tvalidation_0-logloss:0.315400\tvalidation_1-logloss:0.317804\n",
      "[131]\tvalidation_0-logloss:0.315324\tvalidation_1-logloss:0.317733\n",
      "[132]\tvalidation_0-logloss:0.315252\tvalidation_1-logloss:0.317668\n",
      "[133]\tvalidation_0-logloss:0.315221\tvalidation_1-logloss:0.317643\n",
      "[134]\tvalidation_0-logloss:0.315177\tvalidation_1-logloss:0.317597\n",
      "[135]\tvalidation_0-logloss:0.315104\tvalidation_1-logloss:0.317533\n",
      "[136]\tvalidation_0-logloss:0.315032\tvalidation_1-logloss:0.317491\n",
      "[137]\tvalidation_0-logloss:0.314932\tvalidation_1-logloss:0.317397\n",
      "[138]\tvalidation_0-logloss:0.314848\tvalidation_1-logloss:0.317313\n",
      "[139]\tvalidation_0-logloss:0.314785\tvalidation_1-logloss:0.317251\n",
      "[140]\tvalidation_0-logloss:0.314723\tvalidation_1-logloss:0.317206\n",
      "[141]\tvalidation_0-logloss:0.314663\tvalidation_1-logloss:0.317151\n",
      "[142]\tvalidation_0-logloss:0.314568\tvalidation_1-logloss:0.317057\n",
      "[143]\tvalidation_0-logloss:0.314597\tvalidation_1-logloss:0.317072\n",
      "[144]\tvalidation_0-logloss:0.314528\tvalidation_1-logloss:0.317004\n",
      "[145]\tvalidation_0-logloss:0.314492\tvalidation_1-logloss:0.316984\n",
      "[146]\tvalidation_0-logloss:0.314438\tvalidation_1-logloss:0.316934\n",
      "[147]\tvalidation_0-logloss:0.314414\tvalidation_1-logloss:0.316925\n",
      "[148]\tvalidation_0-logloss:0.314365\tvalidation_1-logloss:0.316888\n",
      "[149]\tvalidation_0-logloss:0.314181\tvalidation_1-logloss:0.316715\n",
      "[150]\tvalidation_0-logloss:0.314153\tvalidation_1-logloss:0.316691\n",
      "[151]\tvalidation_0-logloss:0.314123\tvalidation_1-logloss:0.316667\n",
      "[152]\tvalidation_0-logloss:0.314017\tvalidation_1-logloss:0.316570\n",
      "[153]\tvalidation_0-logloss:0.313991\tvalidation_1-logloss:0.316558\n",
      "[154]\tvalidation_0-logloss:0.313888\tvalidation_1-logloss:0.316452\n"
     ]
    }
   ],
   "source": [
    "#model = RandomForestClassifier(n_estimators=150, n_jobs=8)   # 0.39680 (on public)\n",
    "#model = ExtraTreesClassifier(n_estimators=62, n_jobs=8) # 0.48183 (on public)\n",
    "#model = AdaBoostClassifier()\n",
    "#model = GradientBoostingClassifier(n_estimators=500, max_depth=4, learning_rate=0.2, subsample=0.7) # 0.34721 (on public)\n",
    "#model = KNeighborsClassifier(n_neighbors=25)\n",
    "#model = MultinomialNB() # 0.57\n",
    "#model = SVC()\n",
    "\n",
    "model = XGBClassifier(n_estimators=500, learning_rate=0.1, max_depth=4, subsample=0.7, gamma=0.5, seed=42,\n",
    "            colsample_bytree=0.7) # 0.34785 (on public)\n",
    "model.fit(X_train, y_train, eval_set=[(X_train, y_train), (X_vald, y_vald)],\n",
    "          early_stopping_rounds=50, verbose=True, eval_metric='logloss')\n",
    "\n",
    "\n",
    "#model = VotingClassifier(estimators=[('xgb', xgb), ('knn', knn), ('rf', rf)],\n",
    "#                        voting='soft', weights=[4.5, 1.1, 1.2])\n",
    "\n",
    "#model.fit(X_train, y_train)"
   ]
  },
  {
   "cell_type": "markdown",
   "metadata": {},
   "source": [
    "## Evaluation"
   ]
  },
  {
   "cell_type": "code",
   "execution_count": 13,
   "metadata": {
    "collapsed": false
   },
   "outputs": [
    {
     "name": "stdout",
     "output_type": "stream",
     "text": [
      "F1-score: 0.3614493395321378\n",
      "Acc: 0.8526538651469828\n",
      "Precision: 0.6787694013303769\n",
      "Recall: 0.24630393241476414\n",
      "LogLoss: 0.3002466427174439\n"
     ]
    }
   ],
   "source": [
    "val_predictions = model.predict(X_vald)\n",
    "val_prob_predictions = model.predict_proba(X_vald)\n",
    "\n",
    "for metric_name, metric_func in zip(\n",
    "    ['F1-score', 'Acc', 'Precision', 'Recall', 'LogLoss'],\n",
    "    [f1_score, accuracy_score, precision_score, recall_score, log_loss]\n",
    "):\n",
    "    \n",
    "    val_predictions = val_predictions if metric_name not in ['LogLoss'] else val_prob_predictions\n",
    "    metric_score = metric_func(y_vald, val_predictions)\n",
    "    print('{0}: {1}'.format(metric_name, metric_score))"
   ]
  },
  {
   "cell_type": "markdown",
   "metadata": {},
   "source": [
    "## Prepare for submission"
   ]
  },
  {
   "cell_type": "code",
   "execution_count": 14,
   "metadata": {
    "collapsed": false
   },
   "outputs": [],
   "source": [
    "model.fit(X, y)\n",
    "predictions = model.predict_proba(X_test)"
   ]
  },
  {
   "cell_type": "markdown",
   "metadata": {},
   "source": [
    "## Generate submission"
   ]
  },
  {
   "cell_type": "code",
   "execution_count": 15,
   "metadata": {
    "collapsed": true
   },
   "outputs": [],
   "source": [
    "np.savetxt(\n",
    "    '../submissions/submission.csv', np.c_[range(len(predictions)), predictions[:,1]],\n",
    "    delimiter=',', header='test_id,is_duplicate', comments='', fmt='%d,%f'\n",
    ")"
   ]
  },
  {
   "cell_type": "code",
   "execution_count": null,
   "metadata": {
    "collapsed": true
   },
   "outputs": [],
   "source": []
  }
 ],
 "metadata": {
  "kernelspec": {
   "display_name": "Python 3",
   "language": "python",
   "name": "python3"
  },
  "language_info": {
   "codemirror_mode": {
    "name": "ipython",
    "version": 3
   },
   "file_extension": ".py",
   "mimetype": "text/x-python",
   "name": "python",
   "nbconvert_exporter": "python",
   "pygments_lexer": "ipython3",
   "version": "3.5.2"
  }
 },
 "nbformat": 4,
 "nbformat_minor": 0
}

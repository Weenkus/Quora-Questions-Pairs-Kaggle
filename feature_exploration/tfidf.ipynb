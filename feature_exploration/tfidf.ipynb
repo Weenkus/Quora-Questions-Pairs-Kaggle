{
 "cells": [
  {
   "cell_type": "code",
   "execution_count": 7,
   "metadata": {
    "collapsed": true
   },
   "outputs": [],
   "source": [
    "import csv\n",
    "import spacy\n",
    "import pickle\n",
    "from math import log, ceil\n",
    "from scipy.stats import describe\n",
    "from scipy.stats.mstats import gmean, hmean\n",
    "from numpy import mean as amean\n",
    "\n",
    "nlp = spacy.load('en_default')  # using en_core_web_md model\n",
    "\n",
    "MAXIMUM_IDF = log(5000000)  # doesn't really matter, this is close to having only one occurrence in the Quora dataset\n",
    "\n",
    "\n",
    "def idfs():\n",
    "    with open('input/idfs.pickle', 'rb') as input_file:\n",
    "        return pickle.load(input_file)\n",
    "\n",
    "IDFS = idfs()\n",
    "\n",
    "\n",
    "def get_idf(spacy_word):\n",
    "    key = (spacy_word.lemma_, spacy_word.pos_)\n",
    "    return IDFS.get(key, MAXIMUM_IDF)\n",
    "\n",
    "\n",
    "def train_set(size=404301):\n",
    "    with open('input/train.csv', 'r') as input_file:\n",
    "        reader = csv.DictReader(input_file)\n",
    "        for counter, line in enumerate(reader):\n",
    "            if counter >= size:\n",
    "                break\n",
    "            yield int(line['id']), line['question1'], line['question2'], int(line['is_duplicate'])"
   ]
  },
  {
   "cell_type": "code",
   "execution_count": 3,
   "metadata": {},
   "outputs": [],
   "source": [
    "def jaccard_index(set1, set2):\n",
    "    if len(set1) == 0 and len(set2) == 0:\n",
    "        return 1.0\n",
    "    return len(set1 & set2) / len(set1 | set2)\n",
    "\n",
    "\n",
    "def filter_by_minimum_idf(spacy_document, minimum_idf):\n",
    "    return set(\n",
    "        (word.lemma_ for word in spacy_document if get_idf(word) >= minimum_idf)\n",
    "    )"
   ]
  },
  {
   "cell_type": "code",
   "execution_count": 8,
   "metadata": {},
   "outputs": [
    {
     "name": "stdout",
     "output_type": "stream",
     "text": [
      "\t\tnumber of observations\t(minimum, maximum)\tmean\tvariance\tskewness\tkurtosis\n"
     ]
    },
    {
     "name": "stdout",
     "output_type": "stream",
     "text": [
      "MINIMUM:\t0\nDUPLICATE:\t 3711\t(0.090909090909090912, 1.0)\t0.557678310241\t0.0395095764097\t0.24153978258070485\t-0.7665211347897531\nNOT DUPLICATE:\t 6289\t(0.0, 1.0)\t0.383935352073\t0.0541890925243\t0.6204053483680291\t-0.6107482351567355\n\n\n"
     ]
    },
    {
     "name": "stdout",
     "output_type": "stream",
     "text": [
      "MINIMUM:\t1\nDUPLICATE:\t 3711\t(0.0, 1.0)\t0.495165433371\t0.0432986956872\t0.4676834864115215\t-0.5274396949554121\nNOT DUPLICATE:\t 6289\t(0.0, 1.0)\t0.316025564064\t0.055080911096\t0.769225303047541\t-0.24186679499440222\n\n\n"
     ]
    },
    {
     "name": "stdout",
     "output_type": "stream",
     "text": [
      "MINIMUM:\t2\nDUPLICATE:\t 3711\t(0.0, 1.0)\t0.512584446013\t0.0500473150062\t0.5517202839367089\t-0.48088797360704394\nNOT DUPLICATE:\t 6289\t(0.0, 1.0)\t0.308264384527\t0.0571768958037\t0.7346095018646495\t-0.2763900360758975\n\n\n"
     ]
    },
    {
     "name": "stdout",
     "output_type": "stream",
     "text": [
      "MINIMUM:\t3\nDUPLICATE:\t 3711\t(0.0, 1.0)\t0.52871184858\t0.0544358252093\t0.5332302065389398\t-0.5616588032286276\nNOT DUPLICATE:\t 6289\t(0.0, 1.0)\t0.315569254023\t0.0605059042796\t0.7178273521669866\t-0.2571107354806177\n\n\n"
     ]
    },
    {
     "name": "stdout",
     "output_type": "stream",
     "text": [
      "MINIMUM:\t4\nDUPLICATE:\t 3711\t(0.0, 1.0)\t0.562405830165\t0.0623080751215\t0.3976297409226414\t-0.7735759078827118\nNOT DUPLICATE:\t 6289\t(0.0, 1.0)\t0.330528381723\t0.066666287562\t0.6836936696037529\t-0.27146562074685043\n\n\n"
     ]
    },
    {
     "name": "stdout",
     "output_type": "stream",
     "text": [
      "MINIMUM:\t5\nDUPLICATE:\t 3711\t(0.0, 1.0)\t0.567903972336\t0.0814693274336\t0.1318291783596864\t-0.8709155135834505\nNOT DUPLICATE:\t 6289\t(0.0, 1.0)\t0.330143200929\t0.0752177873968\t0.7737924324492068\t-0.11735439268226155\n\n\n"
     ]
    },
    {
     "name": "stdout",
     "output_type": "stream",
     "text": [
      "MINIMUM:\t6\nDUPLICATE:\t 3711\t(0.0, 1.0)\t0.567219189303\t0.118962179164\t-0.10435264190690177\t-1.203611433767062\nNOT DUPLICATE:\t 6289\t(0.0, 1.0)\t0.326328677153\t0.0934830679571\t0.8444072466343407\t-0.20519865678267735\n\n\n"
     ]
    },
    {
     "name": "stdout",
     "output_type": "stream",
     "text": [
      "MINIMUM:\t7\nDUPLICATE:\t 3711\t(0.0, 1.0)\t0.584606438164\t0.162577409892\t-0.28161211685531296\t-1.4924267478332922\nNOT DUPLICATE:\t 6289\t(0.0, 1.0)\t0.328213654888\t0.126695813133\t0.826140899645756\t-0.6431497453354695\n\n\n"
     ]
    },
    {
     "name": "stdout",
     "output_type": "stream",
     "text": [
      "MINIMUM:\t8\nDUPLICATE:\t 3711\t(0.0, 1.0)\t0.655943949012\t0.18288723856\t-0.6319195292252436\t-1.3687006024793935\nNOT DUPLICATE:\t 6289\t(0.0, 1.0)\t0.362016513148\t0.166983838442\t0.6326338363553026\t-1.2435264487767002\n\n\n"
     ]
    },
    {
     "name": "stdout",
     "output_type": "stream",
     "text": [
      "MINIMUM:\t9\nDUPLICATE:\t 3711\t(0.0, 1.0)\t0.730133066431\t0.177141828894\t-1.0232420982385257\t-0.8226478974587526\nNOT DUPLICATE:\t 6289\t(0.0, 1.0)\t0.427639628618\t0.210571130929\t0.3161748026066476\t-1.7521479074951882\n\n\n"
     ]
    },
    {
     "name": "stdout",
     "output_type": "stream",
     "text": [
      "MINIMUM:\t10\nDUPLICATE:\t 3711\t(0.0, 1.0)\t0.803238120902\t0.149989249692\t-1.5199709594278579\t0.3907122106912304\nNOT DUPLICATE:\t 6289\t(0.0, 1.0)\t0.524990099298\t0.234585813497\t-0.09141679810540093\t-1.933769496005887\n\n\n"
     ]
    },
    {
     "name": "stdout",
     "output_type": "stream",
     "text": [
      "MINIMUM:\t11\nDUPLICATE:\t 3711\t(0.0, 1.0)\t0.861059783655\t0.116484804825\t-2.085049250907725\t2.4016362027816536\nNOT DUPLICATE:\t 6289\t(0.0, 1.0)\t0.630272433349\t0.227027533911\t-0.536319929792744\t-1.6859755586202407\n\n\n"
     ]
    },
    {
     "name": "stdout",
     "output_type": "stream",
     "text": [
      "MINIMUM:\t12\nDUPLICATE:\t 3711\t(0.0, 1.0)\t0.913038457097\t0.0780029424052\t-2.9297181257822804\t6.63845487692738\nNOT DUPLICATE:\t 6289\t(0.0, 1.0)\t0.715617215244\t0.201334334581\t-0.9544428012201216\t-1.0762650419729303\n\n\n"
     ]
    },
    {
     "name": "stdout",
     "output_type": "stream",
     "text": [
      "MINIMUM:\t13\nDUPLICATE:\t 3711\t(0.0, 1.0)\t0.946474445343\t0.0501893490847\t-3.9648690502637978\t13.764572614153217\nNOT DUPLICATE:\t 6289\t(0.0, 1.0)\t0.798749138708\t0.160235571088\t-1.4898881796524976\t0.22484274107168245\n\n\n"
     ]
    },
    {
     "name": "stdout",
     "output_type": "stream",
     "text": [
      "MINIMUM:\t14\nDUPLICATE:\t 3711\t(0.0, 1.0)\t0.967663702506\t0.0311643246094\t-5.2875348974998175\t25.992575967256805\nNOT DUPLICATE:\t 6289\t(0.0, 1.0)\t0.861186198124\t0.119404508741\t-2.089276879878149\t2.367863210669557\n\n\n"
     ]
    },
    {
     "name": "stdout",
     "output_type": "stream",
     "text": [
      "MINIMUM:\t15\nDUPLICATE:\t 3711\t(0.0, 1.0)\t0.975478307734\t0.0239268264161\t-6.148606175530092\t35.80535790176675\nNOT DUPLICATE:\t 6289\t(0.0, 1.0)\t0.885832405788\t0.101149438193\t-2.4265066729025255\t3.8879346336404854\n\n\n"
     ]
    }
   ],
   "source": [
    "print('\\t\\tnumber of observations\\t(minimum, maximum)\\tmean\\tvariance\\tskewness\\tkurtosis')\n",
    "\n",
    "for minimum_idf in range(0, ceil(MAXIMUM_IDF)):\n",
    "    duplicate = list()\n",
    "    non_duplicate = list()\n",
    "    for pair_id, question1, question2, is_duplicate in train_set(10000):\n",
    "        question1_doc = nlp(question1)\n",
    "        question2_doc = nlp(question2)\n",
    "        \n",
    "        overlap_score = jaccard_index(\n",
    "            filter_by_minimum_idf(question1_doc, minimum_idf),\n",
    "            filter_by_minimum_idf(question2_doc, minimum_idf)\n",
    "        )\n",
    "        \n",
    "        if is_duplicate:\n",
    "            duplicate.append(overlap_score)\n",
    "        else:\n",
    "            non_duplicate.append(overlap_score)\n",
    "\n",
    "    print('MINIMUM:\\t%s' % minimum_idf)\n",
    "    print('DUPLICATE:\\t', '\\t'.join(map(str, describe(duplicate))))\n",
    "    print('NOT DUPLICATE:\\t', '\\t'.join(map(str, describe(non_duplicate))))\n",
    "    print('\\n')"
   ]
  },
  {
   "cell_type": "code",
   "execution_count": 10,
   "metadata": {},
   "outputs": [
    {
     "name": "stdout",
     "output_type": "stream",
     "text": [
      "mean, relative_difference\nDUPLICATE:\t 3711\t(1.0, 2.480560455841101)\t1.13679802156\t0.0172794899647\t1.980417603865905\t6.610397255471382\nNOT DUPLICATE:\t 6289\t(1.0, 3.3532484125679822)\t1.19206982906\t0.0382072288189\t2.2751843846086377\t8.988505024237263\n\n\n"
     ]
    },
    {
     "name": "stdout",
     "output_type": "stream",
     "text": [
      "mean, absolute_difference\nDUPLICATE:\t 3711\t(0.0, 3.8704809695412425)\t0.438007520793\t0.158739825838\t1.6751807063727422\t4.163405466659966\nNOT DUPLICATE:\t 6289\t(0.0, 5.775112630251785)\t0.656837999639\t0.39122247172\t1.8783217813806519\t5.245805497035381\n\n\n"
     ]
    },
    {
     "name": "stdout",
     "output_type": "stream",
     "text": [
      "gmean, relative_difference\nDUPLICATE:\t 3711\t(1.0, 4.1806249473146817)\t1.26761100305\t0.088716299729\t2.6305181311718386\t11.317481839896546\nNOT DUPLICATE:\t 6289\t(1.0, 11.305244811826743)\t1.39217077122\t0.217174993901\t4.135763550348844\t46.497100913174556\n\n\n"
     ]
    },
    {
     "name": "stdout",
     "output_type": "stream",
     "text": [
      "gmean, absolute_difference\nDUPLICATE:\t 3711\t(0.0, 2.4539374745942002)\t0.28931766826\t0.0771543233843\t1.8658858760853543\t5.310925181554088\nNOT DUPLICATE:\t 6289\t(0.0, 7.4127034230730908)\t0.454065044527\t0.185509723852\t2.1733599065219895\t13.834008732230664\n\n\n"
     ]
    },
    {
     "name": "stdout",
     "output_type": "stream",
     "text": [
      "hmean, relative_difference\nDUPLICATE:\t 3711\t(1.0, 234.82672212845662)\t1.81721344654\t90.0276523229\t18.83506483129104\t375.43473680451757\nNOT DUPLICATE:\t 6289\t(1.0, 1058.1141440857477)\t1.93357709496\t219.026918703\t59.92463827388839\t4148.4188289545355\n\n\n"
     ]
    },
    {
     "name": "stdout",
     "output_type": "stream",
     "text": [
      "hmean, absolute_difference\nDUPLICATE:\t 3711\t(0.0, 2.7443857128268183)\t0.010826826583\t0.0150638500945\t17.414286544491922\t309.1889316022544\nNOT DUPLICATE:\t 6289\t(0.0, 7.9349263681499229)\t0.014277222299\t0.0266113424569\t28.947679706467788\t1075.0505947994043\n\n\n"
     ]
    }
   ],
   "source": [
    "def relative_difference(value1, value2):\n",
    "    diff = abs(value1 / value2)\n",
    "    if diff > 1:\n",
    "        return diff\n",
    "    else:\n",
    "        return 1 / diff\n",
    "    \n",
    "\n",
    "def absolute_difference(value1, value2):\n",
    "    return abs(value1 - value2)\n",
    "\n",
    "\n",
    "means = [amean, gmean, hmean]\n",
    "differences = [relative_difference, absolute_difference]\n",
    "\n",
    "for mean in means:\n",
    "    for difference in differences:\n",
    "        duplicate = list()\n",
    "        non_duplicate = list()\n",
    "        for pair_id, question1, question2, is_duplicate in train_set(10000):\n",
    "            question1_doc = nlp(question1)\n",
    "            question2_doc = nlp(question2)\n",
    "            \n",
    "            idfs1 = list(map(get_idf, question1_doc))\n",
    "            idfs2 = list(map(get_idf, question2_doc))\n",
    "            \n",
    "            question_difference = difference(\n",
    "                mean(idfs1), mean(idfs2)\n",
    "            )\n",
    "            \n",
    "            if is_duplicate:\n",
    "                duplicate.append(question_difference)\n",
    "            else:\n",
    "                non_duplicate.append(question_difference)\n",
    "    \n",
    "        print('%s, %s' % (mean.__name__, difference.__name__))\n",
    "        print('DUPLICATE:\\t', '\\t'.join(map(str, describe(duplicate))))\n",
    "        print('NOT DUPLICATE:\\t', '\\t'.join(map(str, describe(non_duplicate))))\n",
    "        print('\\n')"
   ]
  },
  {
   "cell_type": "code",
   "execution_count": null,
   "metadata": {},
   "outputs": [],
   "source": [
    ""
   ]
  }
 ],
 "metadata": {
  "kernelspec": {
   "display_name": "Python 2",
   "language": "python",
   "name": "python2"
  },
  "language_info": {
   "codemirror_mode": {
    "name": "ipython",
    "version": 2.0
   },
   "file_extension": ".py",
   "mimetype": "text/x-python",
   "name": "python",
   "nbconvert_exporter": "python",
   "pygments_lexer": "ipython2",
   "version": "2.7.6"
  }
 },
 "nbformat": 4,
 "nbformat_minor": 0
}
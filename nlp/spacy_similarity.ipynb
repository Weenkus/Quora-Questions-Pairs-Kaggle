{
 "cells": [
  {
   "cell_type": "code",
   "execution_count": 1,
   "metadata": {},
   "outputs": [
    {
     "name": "stdout",
     "output_type": "stream",
     "text": [
      "Model loaded\n"
     ]
    }
   ],
   "source": [
    "import spacy\n",
    "nlp = spacy.load('en_default')  # using en_core_web_md model\n",
    "print('Model loaded')"
   ]
  },
  {
   "cell_type": "code",
   "execution_count": 2,
   "metadata": {
    "collapsed": true
   },
   "outputs": [],
   "source": [
    "import csv\n",
    "\n",
    "\n",
    "def train_set():\n",
    "    with open('../input/train.csv', 'r') as input_file:\n",
    "        reader = csv.DictReader(input_file)\n",
    "        for line in reader:\n",
    "            yield line['question1'], line['question2'], line['is_duplicate']"
   ]
  },
  {
   "cell_type": "code",
   "execution_count": 3,
   "metadata": {},
   "outputs": [
    {
     "name": "stdout",
     "output_type": "stream",
     "text": [
      "0.986684250232 0\n",
      "0.924999549419 0\n",
      "0.929068045365 0\n",
      "0.730742476745 0\n",
      "0.846615892744 0\n",
      "0.949986092154 1\n",
      "0.640389489916 0\n",
      "0.980783299375 1\n",
      "0.878855919191 0\n",
      "0.855952899574 0\n",
      "0.738678928032 0\n",
      "0.98044942576 1\n",
      "0.995875842722 1\n",
      "0.993128946113 1\n",
      "0.996409017233 0\n",
      "0.910512380492 1\n",
      "0.977867198431 1\n",
      "0.946655548642 0\n",
      "0.948582060405 1\n",
      "0.969762427642 0\n"
     ]
    }
   ],
   "source": [
    "for question1, question2, is_duplicate in list(train_set())[:20]:\n",
    "    print(nlp(question1).similarity(nlp(question2)), is_duplicate)"
   ]
  },
  {
   "cell_type": "code",
   "execution_count": null,
   "metadata": {
    "collapsed": true
   },
   "outputs": [],
   "source": [
    "from scipy.stats import describe\n",
    "\n",
    "similarity_values = {\n",
    "    'not_duplicate': list(),\n",
    "    'duplicate': list()\n",
    "}\n",
    "\n",
    "for question1, question2, is_duplicate in train_set():\n",
    "    if is_duplicate == '1':\n",
    "        similarity_values['duplicate'].append(nlp(question1).similarity(nlp(question2)))\n",
    "    else:\n",
    "        similarity_values['not_duplicate'].append(nlp(question1).similarity(nlp(question2)))\n",
    "\n",
    "print('number of observations, (minimum, maximum), mean, variance, skewness, kurtosis')\n",
    "print('DUPLICATE', describe(similarity_values['duplicate']))\n",
    "print('NOT DUPLICATE', describe(similarity_values['not_duplicate']))"
   ]
  }
 ],
 "metadata": {
  "kernelspec": {
   "display_name": "Python 3",
   "language": "python",
   "name": "python3"
  },
  "language_info": {
   "codemirror_mode": {
    "name": "ipython",
    "version": 3
   },
   "file_extension": ".py",
   "mimetype": "text/x-python",
   "name": "python",
   "nbconvert_exporter": "python",
   "pygments_lexer": "ipython3",
   "version": "3.5.2"
  }
 },
 "nbformat": 4,
 "nbformat_minor": 1
}
